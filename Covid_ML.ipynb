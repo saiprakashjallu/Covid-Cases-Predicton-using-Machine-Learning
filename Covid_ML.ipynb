{
  "nbformat": 4,
  "nbformat_minor": 0,
  "metadata": {
    "colab": {
      "name": "Covid-ML.ipynb",
      "provenance": [],
      "collapsed_sections": []
    },
    "kernelspec": {
      "name": "python3",
      "display_name": "Python 3"
    }
  },
  "cells": [
    {
      "cell_type": "code",
      "metadata": {
        "id": "S1ayxRF8LVJS"
      },
      "source": [
        "import pandas as pd"
      ],
      "execution_count": null,
      "outputs": []
    },
    {
      "cell_type": "code",
      "metadata": {
        "id": "sY54V6eTLoXZ",
        "colab": {
          "base_uri": "https://localhost:8080/",
          "height": 316
        },
        "outputId": "df333842-ba42-4d4b-f87f-4c79870c031e"
      },
      "source": [
        "df=pd.read_csv('/content/owid-covid-data.csv',header=None)\n",
        "df.head()"
      ],
      "execution_count": null,
      "outputs": [
        {
          "output_type": "stream",
          "text": [
            "/usr/local/lib/python3.6/dist-packages/IPython/core/interactiveshell.py:2718: DtypeWarning: Columns (4,5,6,7,8,9,10,11,12,13,14,15,16,17,19,20,21,22,23,24,25,26,27,28,29,30,31,32,33) have mixed types.Specify dtype option on import or set low_memory=False.\n",
            "  interactivity=interactivity, compiler=compiler, result=result)\n"
          ],
          "name": "stderr"
        },
        {
          "output_type": "execute_result",
          "data": {
            "text/html": [
              "<div>\n",
              "<style scoped>\n",
              "    .dataframe tbody tr th:only-of-type {\n",
              "        vertical-align: middle;\n",
              "    }\n",
              "\n",
              "    .dataframe tbody tr th {\n",
              "        vertical-align: top;\n",
              "    }\n",
              "\n",
              "    .dataframe thead th {\n",
              "        text-align: right;\n",
              "    }\n",
              "</style>\n",
              "<table border=\"1\" class=\"dataframe\">\n",
              "  <thead>\n",
              "    <tr style=\"text-align: right;\">\n",
              "      <th></th>\n",
              "      <th>0</th>\n",
              "      <th>1</th>\n",
              "      <th>2</th>\n",
              "      <th>3</th>\n",
              "      <th>4</th>\n",
              "      <th>5</th>\n",
              "      <th>6</th>\n",
              "      <th>7</th>\n",
              "      <th>8</th>\n",
              "      <th>9</th>\n",
              "      <th>10</th>\n",
              "      <th>11</th>\n",
              "      <th>12</th>\n",
              "      <th>13</th>\n",
              "      <th>14</th>\n",
              "      <th>15</th>\n",
              "      <th>16</th>\n",
              "      <th>17</th>\n",
              "      <th>18</th>\n",
              "      <th>19</th>\n",
              "      <th>20</th>\n",
              "      <th>21</th>\n",
              "      <th>22</th>\n",
              "      <th>23</th>\n",
              "      <th>24</th>\n",
              "      <th>25</th>\n",
              "      <th>26</th>\n",
              "      <th>27</th>\n",
              "      <th>28</th>\n",
              "      <th>29</th>\n",
              "      <th>30</th>\n",
              "      <th>31</th>\n",
              "      <th>32</th>\n",
              "      <th>33</th>\n",
              "    </tr>\n",
              "  </thead>\n",
              "  <tbody>\n",
              "    <tr>\n",
              "      <th>0</th>\n",
              "      <td>iso_code</td>\n",
              "      <td>continent</td>\n",
              "      <td>location</td>\n",
              "      <td>date</td>\n",
              "      <td>total_cases</td>\n",
              "      <td>new_cases</td>\n",
              "      <td>total_deaths</td>\n",
              "      <td>new_deaths</td>\n",
              "      <td>total_cases_per_million</td>\n",
              "      <td>new_cases_per_million</td>\n",
              "      <td>total_deaths_per_million</td>\n",
              "      <td>new_deaths_per_million</td>\n",
              "      <td>total_tests</td>\n",
              "      <td>new_tests</td>\n",
              "      <td>total_tests_per_thousand</td>\n",
              "      <td>new_tests_per_thousand</td>\n",
              "      <td>new_tests_smoothed</td>\n",
              "      <td>new_tests_smoothed_per_thousand</td>\n",
              "      <td>tests_units</td>\n",
              "      <td>stringency_index</td>\n",
              "      <td>population</td>\n",
              "      <td>population_density</td>\n",
              "      <td>median_age</td>\n",
              "      <td>aged_65_older</td>\n",
              "      <td>aged_70_older</td>\n",
              "      <td>gdp_per_capita</td>\n",
              "      <td>extreme_poverty</td>\n",
              "      <td>cardiovasc_death_rate</td>\n",
              "      <td>diabetes_prevalence</td>\n",
              "      <td>female_smokers</td>\n",
              "      <td>male_smokers</td>\n",
              "      <td>handwashing_facilities</td>\n",
              "      <td>hospital_beds_per_thousand</td>\n",
              "      <td>life_expectancy</td>\n",
              "    </tr>\n",
              "    <tr>\n",
              "      <th>1</th>\n",
              "      <td>AFG</td>\n",
              "      <td>Asia</td>\n",
              "      <td>Afghanistan</td>\n",
              "      <td>2019-12-31</td>\n",
              "      <td>0.0</td>\n",
              "      <td>0.0</td>\n",
              "      <td>0.0</td>\n",
              "      <td>0.0</td>\n",
              "      <td>0.0</td>\n",
              "      <td>0.0</td>\n",
              "      <td>0.0</td>\n",
              "      <td>0.0</td>\n",
              "      <td>NaN</td>\n",
              "      <td>NaN</td>\n",
              "      <td>NaN</td>\n",
              "      <td>NaN</td>\n",
              "      <td>NaN</td>\n",
              "      <td>NaN</td>\n",
              "      <td>NaN</td>\n",
              "      <td>NaN</td>\n",
              "      <td>38928341.0</td>\n",
              "      <td>54.422</td>\n",
              "      <td>18.6</td>\n",
              "      <td>2.581</td>\n",
              "      <td>1.337</td>\n",
              "      <td>1803.987</td>\n",
              "      <td>NaN</td>\n",
              "      <td>597.029</td>\n",
              "      <td>9.59</td>\n",
              "      <td>NaN</td>\n",
              "      <td>NaN</td>\n",
              "      <td>37.746</td>\n",
              "      <td>0.5</td>\n",
              "      <td>64.83</td>\n",
              "    </tr>\n",
              "    <tr>\n",
              "      <th>2</th>\n",
              "      <td>AFG</td>\n",
              "      <td>Asia</td>\n",
              "      <td>Afghanistan</td>\n",
              "      <td>2020-01-01</td>\n",
              "      <td>0.0</td>\n",
              "      <td>0.0</td>\n",
              "      <td>0.0</td>\n",
              "      <td>0.0</td>\n",
              "      <td>0.0</td>\n",
              "      <td>0.0</td>\n",
              "      <td>0.0</td>\n",
              "      <td>0.0</td>\n",
              "      <td>NaN</td>\n",
              "      <td>NaN</td>\n",
              "      <td>NaN</td>\n",
              "      <td>NaN</td>\n",
              "      <td>NaN</td>\n",
              "      <td>NaN</td>\n",
              "      <td>NaN</td>\n",
              "      <td>0.0</td>\n",
              "      <td>38928341.0</td>\n",
              "      <td>54.422</td>\n",
              "      <td>18.6</td>\n",
              "      <td>2.581</td>\n",
              "      <td>1.337</td>\n",
              "      <td>1803.987</td>\n",
              "      <td>NaN</td>\n",
              "      <td>597.029</td>\n",
              "      <td>9.59</td>\n",
              "      <td>NaN</td>\n",
              "      <td>NaN</td>\n",
              "      <td>37.746</td>\n",
              "      <td>0.5</td>\n",
              "      <td>64.83</td>\n",
              "    </tr>\n",
              "    <tr>\n",
              "      <th>3</th>\n",
              "      <td>AFG</td>\n",
              "      <td>Asia</td>\n",
              "      <td>Afghanistan</td>\n",
              "      <td>2020-01-02</td>\n",
              "      <td>0.0</td>\n",
              "      <td>0.0</td>\n",
              "      <td>0.0</td>\n",
              "      <td>0.0</td>\n",
              "      <td>0.0</td>\n",
              "      <td>0.0</td>\n",
              "      <td>0.0</td>\n",
              "      <td>0.0</td>\n",
              "      <td>NaN</td>\n",
              "      <td>NaN</td>\n",
              "      <td>NaN</td>\n",
              "      <td>NaN</td>\n",
              "      <td>NaN</td>\n",
              "      <td>NaN</td>\n",
              "      <td>NaN</td>\n",
              "      <td>0.0</td>\n",
              "      <td>38928341.0</td>\n",
              "      <td>54.422</td>\n",
              "      <td>18.6</td>\n",
              "      <td>2.581</td>\n",
              "      <td>1.337</td>\n",
              "      <td>1803.987</td>\n",
              "      <td>NaN</td>\n",
              "      <td>597.029</td>\n",
              "      <td>9.59</td>\n",
              "      <td>NaN</td>\n",
              "      <td>NaN</td>\n",
              "      <td>37.746</td>\n",
              "      <td>0.5</td>\n",
              "      <td>64.83</td>\n",
              "    </tr>\n",
              "    <tr>\n",
              "      <th>4</th>\n",
              "      <td>AFG</td>\n",
              "      <td>Asia</td>\n",
              "      <td>Afghanistan</td>\n",
              "      <td>2020-01-03</td>\n",
              "      <td>0.0</td>\n",
              "      <td>0.0</td>\n",
              "      <td>0.0</td>\n",
              "      <td>0.0</td>\n",
              "      <td>0.0</td>\n",
              "      <td>0.0</td>\n",
              "      <td>0.0</td>\n",
              "      <td>0.0</td>\n",
              "      <td>NaN</td>\n",
              "      <td>NaN</td>\n",
              "      <td>NaN</td>\n",
              "      <td>NaN</td>\n",
              "      <td>NaN</td>\n",
              "      <td>NaN</td>\n",
              "      <td>NaN</td>\n",
              "      <td>0.0</td>\n",
              "      <td>38928341.0</td>\n",
              "      <td>54.422</td>\n",
              "      <td>18.6</td>\n",
              "      <td>2.581</td>\n",
              "      <td>1.337</td>\n",
              "      <td>1803.987</td>\n",
              "      <td>NaN</td>\n",
              "      <td>597.029</td>\n",
              "      <td>9.59</td>\n",
              "      <td>NaN</td>\n",
              "      <td>NaN</td>\n",
              "      <td>37.746</td>\n",
              "      <td>0.5</td>\n",
              "      <td>64.83</td>\n",
              "    </tr>\n",
              "  </tbody>\n",
              "</table>\n",
              "</div>"
            ],
            "text/plain": [
              "         0          1   ...                          32               33\n",
              "0  iso_code  continent  ...  hospital_beds_per_thousand  life_expectancy\n",
              "1       AFG       Asia  ...                         0.5            64.83\n",
              "2       AFG       Asia  ...                         0.5            64.83\n",
              "3       AFG       Asia  ...                         0.5            64.83\n",
              "4       AFG       Asia  ...                         0.5            64.83\n",
              "\n",
              "[5 rows x 34 columns]"
            ]
          },
          "metadata": {
            "tags": []
          },
          "execution_count": 112
        }
      ]
    },
    {
      "cell_type": "code",
      "metadata": {
        "id": "XXz4MPqiMkci"
      },
      "source": [
        "df.columns=df.iloc[0]\n",
        "df=df[1:]"
      ],
      "execution_count": null,
      "outputs": []
    },
    {
      "cell_type": "code",
      "metadata": {
        "id": "UUaQ8P9pMUSD",
        "colab": {
          "base_uri": "https://localhost:8080/",
          "height": 299
        },
        "outputId": "ed2d530d-95bc-4342-aa8a-0afb49447d81"
      },
      "source": [
        "df.head()"
      ],
      "execution_count": null,
      "outputs": [
        {
          "output_type": "execute_result",
          "data": {
            "text/html": [
              "<div>\n",
              "<style scoped>\n",
              "    .dataframe tbody tr th:only-of-type {\n",
              "        vertical-align: middle;\n",
              "    }\n",
              "\n",
              "    .dataframe tbody tr th {\n",
              "        vertical-align: top;\n",
              "    }\n",
              "\n",
              "    .dataframe thead th {\n",
              "        text-align: right;\n",
              "    }\n",
              "</style>\n",
              "<table border=\"1\" class=\"dataframe\">\n",
              "  <thead>\n",
              "    <tr style=\"text-align: right;\">\n",
              "      <th></th>\n",
              "      <th>iso_code</th>\n",
              "      <th>continent</th>\n",
              "      <th>location</th>\n",
              "      <th>date</th>\n",
              "      <th>total_cases</th>\n",
              "      <th>new_cases</th>\n",
              "      <th>total_deaths</th>\n",
              "      <th>new_deaths</th>\n",
              "      <th>total_cases_per_million</th>\n",
              "      <th>new_cases_per_million</th>\n",
              "      <th>total_deaths_per_million</th>\n",
              "      <th>new_deaths_per_million</th>\n",
              "      <th>total_tests</th>\n",
              "      <th>new_tests</th>\n",
              "      <th>total_tests_per_thousand</th>\n",
              "      <th>new_tests_per_thousand</th>\n",
              "      <th>new_tests_smoothed</th>\n",
              "      <th>new_tests_smoothed_per_thousand</th>\n",
              "      <th>tests_units</th>\n",
              "      <th>stringency_index</th>\n",
              "      <th>population</th>\n",
              "      <th>population_density</th>\n",
              "      <th>median_age</th>\n",
              "      <th>aged_65_older</th>\n",
              "      <th>aged_70_older</th>\n",
              "      <th>gdp_per_capita</th>\n",
              "      <th>extreme_poverty</th>\n",
              "      <th>cardiovasc_death_rate</th>\n",
              "      <th>diabetes_prevalence</th>\n",
              "      <th>female_smokers</th>\n",
              "      <th>male_smokers</th>\n",
              "      <th>handwashing_facilities</th>\n",
              "      <th>hospital_beds_per_thousand</th>\n",
              "      <th>life_expectancy</th>\n",
              "    </tr>\n",
              "  </thead>\n",
              "  <tbody>\n",
              "    <tr>\n",
              "      <th>1</th>\n",
              "      <td>AFG</td>\n",
              "      <td>Asia</td>\n",
              "      <td>Afghanistan</td>\n",
              "      <td>2019-12-31</td>\n",
              "      <td>0.0</td>\n",
              "      <td>0.0</td>\n",
              "      <td>0.0</td>\n",
              "      <td>0.0</td>\n",
              "      <td>0.0</td>\n",
              "      <td>0.0</td>\n",
              "      <td>0.0</td>\n",
              "      <td>0.0</td>\n",
              "      <td>NaN</td>\n",
              "      <td>NaN</td>\n",
              "      <td>NaN</td>\n",
              "      <td>NaN</td>\n",
              "      <td>NaN</td>\n",
              "      <td>NaN</td>\n",
              "      <td>NaN</td>\n",
              "      <td>NaN</td>\n",
              "      <td>38928341.0</td>\n",
              "      <td>54.422</td>\n",
              "      <td>18.6</td>\n",
              "      <td>2.581</td>\n",
              "      <td>1.337</td>\n",
              "      <td>1803.987</td>\n",
              "      <td>NaN</td>\n",
              "      <td>597.029</td>\n",
              "      <td>9.59</td>\n",
              "      <td>NaN</td>\n",
              "      <td>NaN</td>\n",
              "      <td>37.746</td>\n",
              "      <td>0.5</td>\n",
              "      <td>64.83</td>\n",
              "    </tr>\n",
              "    <tr>\n",
              "      <th>2</th>\n",
              "      <td>AFG</td>\n",
              "      <td>Asia</td>\n",
              "      <td>Afghanistan</td>\n",
              "      <td>2020-01-01</td>\n",
              "      <td>0.0</td>\n",
              "      <td>0.0</td>\n",
              "      <td>0.0</td>\n",
              "      <td>0.0</td>\n",
              "      <td>0.0</td>\n",
              "      <td>0.0</td>\n",
              "      <td>0.0</td>\n",
              "      <td>0.0</td>\n",
              "      <td>NaN</td>\n",
              "      <td>NaN</td>\n",
              "      <td>NaN</td>\n",
              "      <td>NaN</td>\n",
              "      <td>NaN</td>\n",
              "      <td>NaN</td>\n",
              "      <td>NaN</td>\n",
              "      <td>0.0</td>\n",
              "      <td>38928341.0</td>\n",
              "      <td>54.422</td>\n",
              "      <td>18.6</td>\n",
              "      <td>2.581</td>\n",
              "      <td>1.337</td>\n",
              "      <td>1803.987</td>\n",
              "      <td>NaN</td>\n",
              "      <td>597.029</td>\n",
              "      <td>9.59</td>\n",
              "      <td>NaN</td>\n",
              "      <td>NaN</td>\n",
              "      <td>37.746</td>\n",
              "      <td>0.5</td>\n",
              "      <td>64.83</td>\n",
              "    </tr>\n",
              "    <tr>\n",
              "      <th>3</th>\n",
              "      <td>AFG</td>\n",
              "      <td>Asia</td>\n",
              "      <td>Afghanistan</td>\n",
              "      <td>2020-01-02</td>\n",
              "      <td>0.0</td>\n",
              "      <td>0.0</td>\n",
              "      <td>0.0</td>\n",
              "      <td>0.0</td>\n",
              "      <td>0.0</td>\n",
              "      <td>0.0</td>\n",
              "      <td>0.0</td>\n",
              "      <td>0.0</td>\n",
              "      <td>NaN</td>\n",
              "      <td>NaN</td>\n",
              "      <td>NaN</td>\n",
              "      <td>NaN</td>\n",
              "      <td>NaN</td>\n",
              "      <td>NaN</td>\n",
              "      <td>NaN</td>\n",
              "      <td>0.0</td>\n",
              "      <td>38928341.0</td>\n",
              "      <td>54.422</td>\n",
              "      <td>18.6</td>\n",
              "      <td>2.581</td>\n",
              "      <td>1.337</td>\n",
              "      <td>1803.987</td>\n",
              "      <td>NaN</td>\n",
              "      <td>597.029</td>\n",
              "      <td>9.59</td>\n",
              "      <td>NaN</td>\n",
              "      <td>NaN</td>\n",
              "      <td>37.746</td>\n",
              "      <td>0.5</td>\n",
              "      <td>64.83</td>\n",
              "    </tr>\n",
              "    <tr>\n",
              "      <th>4</th>\n",
              "      <td>AFG</td>\n",
              "      <td>Asia</td>\n",
              "      <td>Afghanistan</td>\n",
              "      <td>2020-01-03</td>\n",
              "      <td>0.0</td>\n",
              "      <td>0.0</td>\n",
              "      <td>0.0</td>\n",
              "      <td>0.0</td>\n",
              "      <td>0.0</td>\n",
              "      <td>0.0</td>\n",
              "      <td>0.0</td>\n",
              "      <td>0.0</td>\n",
              "      <td>NaN</td>\n",
              "      <td>NaN</td>\n",
              "      <td>NaN</td>\n",
              "      <td>NaN</td>\n",
              "      <td>NaN</td>\n",
              "      <td>NaN</td>\n",
              "      <td>NaN</td>\n",
              "      <td>0.0</td>\n",
              "      <td>38928341.0</td>\n",
              "      <td>54.422</td>\n",
              "      <td>18.6</td>\n",
              "      <td>2.581</td>\n",
              "      <td>1.337</td>\n",
              "      <td>1803.987</td>\n",
              "      <td>NaN</td>\n",
              "      <td>597.029</td>\n",
              "      <td>9.59</td>\n",
              "      <td>NaN</td>\n",
              "      <td>NaN</td>\n",
              "      <td>37.746</td>\n",
              "      <td>0.5</td>\n",
              "      <td>64.83</td>\n",
              "    </tr>\n",
              "    <tr>\n",
              "      <th>5</th>\n",
              "      <td>AFG</td>\n",
              "      <td>Asia</td>\n",
              "      <td>Afghanistan</td>\n",
              "      <td>2020-01-04</td>\n",
              "      <td>0.0</td>\n",
              "      <td>0.0</td>\n",
              "      <td>0.0</td>\n",
              "      <td>0.0</td>\n",
              "      <td>0.0</td>\n",
              "      <td>0.0</td>\n",
              "      <td>0.0</td>\n",
              "      <td>0.0</td>\n",
              "      <td>NaN</td>\n",
              "      <td>NaN</td>\n",
              "      <td>NaN</td>\n",
              "      <td>NaN</td>\n",
              "      <td>NaN</td>\n",
              "      <td>NaN</td>\n",
              "      <td>NaN</td>\n",
              "      <td>0.0</td>\n",
              "      <td>38928341.0</td>\n",
              "      <td>54.422</td>\n",
              "      <td>18.6</td>\n",
              "      <td>2.581</td>\n",
              "      <td>1.337</td>\n",
              "      <td>1803.987</td>\n",
              "      <td>NaN</td>\n",
              "      <td>597.029</td>\n",
              "      <td>9.59</td>\n",
              "      <td>NaN</td>\n",
              "      <td>NaN</td>\n",
              "      <td>37.746</td>\n",
              "      <td>0.5</td>\n",
              "      <td>64.83</td>\n",
              "    </tr>\n",
              "  </tbody>\n",
              "</table>\n",
              "</div>"
            ],
            "text/plain": [
              "0 iso_code continent  ... hospital_beds_per_thousand life_expectancy\n",
              "1      AFG      Asia  ...                        0.5           64.83\n",
              "2      AFG      Asia  ...                        0.5           64.83\n",
              "3      AFG      Asia  ...                        0.5           64.83\n",
              "4      AFG      Asia  ...                        0.5           64.83\n",
              "5      AFG      Asia  ...                        0.5           64.83\n",
              "\n",
              "[5 rows x 34 columns]"
            ]
          },
          "metadata": {
            "tags": []
          },
          "execution_count": 114
        }
      ]
    },
    {
      "cell_type": "code",
      "metadata": {
        "id": "fRZpsHuOPmEy",
        "colab": {
          "base_uri": "https://localhost:8080/",
          "height": 790
        },
        "outputId": "4391baef-aebd-4ce9-8848-5f71a99653b7"
      },
      "source": [
        "df.location.unique()"
      ],
      "execution_count": null,
      "outputs": [
        {
          "output_type": "execute_result",
          "data": {
            "text/plain": [
              "array(['Afghanistan', 'Albania', 'Algeria', 'Andorra', 'Angola',\n",
              "       'Anguilla', 'Antigua and Barbuda', 'Argentina', 'Armenia', 'Aruba',\n",
              "       'Australia', 'Austria', 'Azerbaijan', 'Bahamas', 'Bahrain',\n",
              "       'Bangladesh', 'Barbados', 'Belarus', 'Belgium', 'Belize', 'Benin',\n",
              "       'Bermuda', 'Bhutan', 'Bolivia', 'Bonaire Sint Eustatius and Saba',\n",
              "       'Bosnia and Herzegovina', 'Botswana', 'Brazil',\n",
              "       'British Virgin Islands', 'Brunei', 'Bulgaria', 'Burkina Faso',\n",
              "       'Burundi', 'Cambodia', 'Cameroon', 'Canada', 'Cape Verde',\n",
              "       'Cayman Islands', 'Central African Republic', 'Chad', 'Chile',\n",
              "       'China', 'Colombia', 'Comoros', 'Congo', 'Costa Rica',\n",
              "       \"Cote d'Ivoire\", 'Croatia', 'Cuba', 'Curacao', 'Cyprus',\n",
              "       'Czech Republic', 'Democratic Republic of Congo', 'Denmark',\n",
              "       'Djibouti', 'Dominica', 'Dominican Republic', 'Ecuador', 'Egypt',\n",
              "       'El Salvador', 'Equatorial Guinea', 'Eritrea', 'Estonia',\n",
              "       'Ethiopia', 'Faeroe Islands', 'Falkland Islands', 'Fiji',\n",
              "       'Finland', 'France', 'French Polynesia', 'Gabon', 'Gambia',\n",
              "       'Georgia', 'Germany', 'Ghana', 'Gibraltar', 'Greece', 'Greenland',\n",
              "       'Grenada', 'Guam', 'Guatemala', 'Guernsey', 'Guinea',\n",
              "       'Guinea-Bissau', 'Guyana', 'Haiti', 'Honduras', 'Hong Kong',\n",
              "       'Hungary', 'Iceland', 'India', 'Indonesia', 'Iran', 'Iraq',\n",
              "       'Ireland', 'Isle of Man', 'Israel', 'Italy', 'Jamaica', 'Japan',\n",
              "       'Jersey', 'Jordan', 'Kazakhstan', 'Kenya', 'Kosovo', 'Kuwait',\n",
              "       'Kyrgyzstan', 'Laos', 'Latvia', 'Lebanon', 'Lesotho', 'Liberia',\n",
              "       'Libya', 'Liechtenstein', 'Lithuania', 'Luxembourg', 'Macedonia',\n",
              "       'Madagascar', 'Malawi', 'Malaysia', 'Maldives', 'Mali', 'Malta',\n",
              "       'Mauritania', 'Mauritius', 'Mexico', 'Moldova', 'Monaco',\n",
              "       'Mongolia', 'Montenegro', 'Montserrat', 'Morocco', 'Mozambique',\n",
              "       'Myanmar', 'Namibia', 'Nepal', 'Netherlands', 'New Caledonia',\n",
              "       'New Zealand', 'Nicaragua', 'Niger', 'Nigeria',\n",
              "       'Northern Mariana Islands', 'Norway', 'Oman', 'Pakistan',\n",
              "       'Palestine', 'Panama', 'Papua New Guinea', 'Paraguay', 'Peru',\n",
              "       'Philippines', 'Poland', 'Portugal', 'Puerto Rico', 'Qatar',\n",
              "       'Romania', 'Russia', 'Rwanda', 'Saint Kitts and Nevis',\n",
              "       'Saint Lucia', 'Saint Vincent and the Grenadines', 'San Marino',\n",
              "       'Sao Tome and Principe', 'Saudi Arabia', 'Senegal', 'Serbia',\n",
              "       'Seychelles', 'Sierra Leone', 'Singapore',\n",
              "       'Sint Maarten (Dutch part)', 'Slovakia', 'Slovenia', 'Somalia',\n",
              "       'South Africa', 'South Korea', 'South Sudan', 'Spain', 'Sri Lanka',\n",
              "       'Sudan', 'Suriname', 'Swaziland', 'Sweden', 'Switzerland', 'Syria',\n",
              "       'Taiwan', 'Tajikistan', 'Tanzania', 'Thailand', 'Timor', 'Togo',\n",
              "       'Trinidad and Tobago', 'Tunisia', 'Turkey',\n",
              "       'Turks and Caicos Islands', 'Uganda', 'Ukraine',\n",
              "       'United Arab Emirates', 'United Kingdom', 'United States',\n",
              "       'United States Virgin Islands', 'Uruguay', 'Uzbekistan', 'Vatican',\n",
              "       'Venezuela', 'Vietnam', 'Western Sahara', 'Yemen', 'Zambia',\n",
              "       'Zimbabwe', 'World', 'International'], dtype=object)"
            ]
          },
          "metadata": {
            "tags": []
          },
          "execution_count": 115
        }
      ]
    },
    {
      "cell_type": "code",
      "metadata": {
        "id": "NSrJvbjbL0AX",
        "colab": {
          "base_uri": "https://localhost:8080/",
          "height": 218
        },
        "outputId": "ee26ec11-dfef-439c-94ab-165cc15b322a"
      },
      "source": [
        "df.columns"
      ],
      "execution_count": null,
      "outputs": [
        {
          "output_type": "execute_result",
          "data": {
            "text/plain": [
              "Index(['iso_code', 'continent', 'location', 'date', 'total_cases', 'new_cases',\n",
              "       'total_deaths', 'new_deaths', 'total_cases_per_million',\n",
              "       'new_cases_per_million', 'total_deaths_per_million',\n",
              "       'new_deaths_per_million', 'total_tests', 'new_tests',\n",
              "       'total_tests_per_thousand', 'new_tests_per_thousand',\n",
              "       'new_tests_smoothed', 'new_tests_smoothed_per_thousand', 'tests_units',\n",
              "       'stringency_index', 'population', 'population_density', 'median_age',\n",
              "       'aged_65_older', 'aged_70_older', 'gdp_per_capita', 'extreme_poverty',\n",
              "       'cardiovasc_death_rate', 'diabetes_prevalence', 'female_smokers',\n",
              "       'male_smokers', 'handwashing_facilities', 'hospital_beds_per_thousand',\n",
              "       'life_expectancy'],\n",
              "      dtype='object', name=0)"
            ]
          },
          "metadata": {
            "tags": []
          },
          "execution_count": 116
        }
      ]
    },
    {
      "cell_type": "code",
      "metadata": {
        "id": "F_Pvt_t8Pgso"
      },
      "source": [
        "df=df[df[\"location\"]==\"India\"]"
      ],
      "execution_count": null,
      "outputs": []
    },
    {
      "cell_type": "code",
      "metadata": {
        "id": "3J2gT5w_QuFS",
        "colab": {
          "base_uri": "https://localhost:8080/",
          "height": 299
        },
        "outputId": "d991ba72-7366-446d-e5cd-c856dcb89706"
      },
      "source": [
        "df.head()"
      ],
      "execution_count": null,
      "outputs": [
        {
          "output_type": "execute_result",
          "data": {
            "text/html": [
              "<div>\n",
              "<style scoped>\n",
              "    .dataframe tbody tr th:only-of-type {\n",
              "        vertical-align: middle;\n",
              "    }\n",
              "\n",
              "    .dataframe tbody tr th {\n",
              "        vertical-align: top;\n",
              "    }\n",
              "\n",
              "    .dataframe thead th {\n",
              "        text-align: right;\n",
              "    }\n",
              "</style>\n",
              "<table border=\"1\" class=\"dataframe\">\n",
              "  <thead>\n",
              "    <tr style=\"text-align: right;\">\n",
              "      <th></th>\n",
              "      <th>iso_code</th>\n",
              "      <th>continent</th>\n",
              "      <th>location</th>\n",
              "      <th>date</th>\n",
              "      <th>total_cases</th>\n",
              "      <th>new_cases</th>\n",
              "      <th>total_deaths</th>\n",
              "      <th>new_deaths</th>\n",
              "      <th>total_cases_per_million</th>\n",
              "      <th>new_cases_per_million</th>\n",
              "      <th>total_deaths_per_million</th>\n",
              "      <th>new_deaths_per_million</th>\n",
              "      <th>total_tests</th>\n",
              "      <th>new_tests</th>\n",
              "      <th>total_tests_per_thousand</th>\n",
              "      <th>new_tests_per_thousand</th>\n",
              "      <th>new_tests_smoothed</th>\n",
              "      <th>new_tests_smoothed_per_thousand</th>\n",
              "      <th>tests_units</th>\n",
              "      <th>stringency_index</th>\n",
              "      <th>population</th>\n",
              "      <th>population_density</th>\n",
              "      <th>median_age</th>\n",
              "      <th>aged_65_older</th>\n",
              "      <th>aged_70_older</th>\n",
              "      <th>gdp_per_capita</th>\n",
              "      <th>extreme_poverty</th>\n",
              "      <th>cardiovasc_death_rate</th>\n",
              "      <th>diabetes_prevalence</th>\n",
              "      <th>female_smokers</th>\n",
              "      <th>male_smokers</th>\n",
              "      <th>handwashing_facilities</th>\n",
              "      <th>hospital_beds_per_thousand</th>\n",
              "      <th>life_expectancy</th>\n",
              "    </tr>\n",
              "  </thead>\n",
              "  <tbody>\n",
              "    <tr>\n",
              "      <th>13428</th>\n",
              "      <td>IND</td>\n",
              "      <td>Asia</td>\n",
              "      <td>India</td>\n",
              "      <td>2019-12-31</td>\n",
              "      <td>0.0</td>\n",
              "      <td>0.0</td>\n",
              "      <td>0.0</td>\n",
              "      <td>0.0</td>\n",
              "      <td>0.0</td>\n",
              "      <td>0.0</td>\n",
              "      <td>0.0</td>\n",
              "      <td>0.0</td>\n",
              "      <td>NaN</td>\n",
              "      <td>NaN</td>\n",
              "      <td>NaN</td>\n",
              "      <td>NaN</td>\n",
              "      <td>NaN</td>\n",
              "      <td>NaN</td>\n",
              "      <td>NaN</td>\n",
              "      <td>NaN</td>\n",
              "      <td>1380004385.0</td>\n",
              "      <td>450.419</td>\n",
              "      <td>28.2</td>\n",
              "      <td>5.989</td>\n",
              "      <td>3.414</td>\n",
              "      <td>6426.674</td>\n",
              "      <td>21.2</td>\n",
              "      <td>282.28</td>\n",
              "      <td>10.39</td>\n",
              "      <td>1.9</td>\n",
              "      <td>20.6</td>\n",
              "      <td>59.55</td>\n",
              "      <td>0.53</td>\n",
              "      <td>69.66</td>\n",
              "    </tr>\n",
              "    <tr>\n",
              "      <th>13429</th>\n",
              "      <td>IND</td>\n",
              "      <td>Asia</td>\n",
              "      <td>India</td>\n",
              "      <td>2020-01-01</td>\n",
              "      <td>0.0</td>\n",
              "      <td>0.0</td>\n",
              "      <td>0.0</td>\n",
              "      <td>0.0</td>\n",
              "      <td>0.0</td>\n",
              "      <td>0.0</td>\n",
              "      <td>0.0</td>\n",
              "      <td>0.0</td>\n",
              "      <td>NaN</td>\n",
              "      <td>NaN</td>\n",
              "      <td>NaN</td>\n",
              "      <td>NaN</td>\n",
              "      <td>NaN</td>\n",
              "      <td>NaN</td>\n",
              "      <td>NaN</td>\n",
              "      <td>0.0</td>\n",
              "      <td>1380004385.0</td>\n",
              "      <td>450.419</td>\n",
              "      <td>28.2</td>\n",
              "      <td>5.989</td>\n",
              "      <td>3.414</td>\n",
              "      <td>6426.674</td>\n",
              "      <td>21.2</td>\n",
              "      <td>282.28</td>\n",
              "      <td>10.39</td>\n",
              "      <td>1.9</td>\n",
              "      <td>20.6</td>\n",
              "      <td>59.55</td>\n",
              "      <td>0.53</td>\n",
              "      <td>69.66</td>\n",
              "    </tr>\n",
              "    <tr>\n",
              "      <th>13430</th>\n",
              "      <td>IND</td>\n",
              "      <td>Asia</td>\n",
              "      <td>India</td>\n",
              "      <td>2020-01-02</td>\n",
              "      <td>0.0</td>\n",
              "      <td>0.0</td>\n",
              "      <td>0.0</td>\n",
              "      <td>0.0</td>\n",
              "      <td>0.0</td>\n",
              "      <td>0.0</td>\n",
              "      <td>0.0</td>\n",
              "      <td>0.0</td>\n",
              "      <td>NaN</td>\n",
              "      <td>NaN</td>\n",
              "      <td>NaN</td>\n",
              "      <td>NaN</td>\n",
              "      <td>NaN</td>\n",
              "      <td>NaN</td>\n",
              "      <td>NaN</td>\n",
              "      <td>0.0</td>\n",
              "      <td>1380004385.0</td>\n",
              "      <td>450.419</td>\n",
              "      <td>28.2</td>\n",
              "      <td>5.989</td>\n",
              "      <td>3.414</td>\n",
              "      <td>6426.674</td>\n",
              "      <td>21.2</td>\n",
              "      <td>282.28</td>\n",
              "      <td>10.39</td>\n",
              "      <td>1.9</td>\n",
              "      <td>20.6</td>\n",
              "      <td>59.55</td>\n",
              "      <td>0.53</td>\n",
              "      <td>69.66</td>\n",
              "    </tr>\n",
              "    <tr>\n",
              "      <th>13431</th>\n",
              "      <td>IND</td>\n",
              "      <td>Asia</td>\n",
              "      <td>India</td>\n",
              "      <td>2020-01-03</td>\n",
              "      <td>0.0</td>\n",
              "      <td>0.0</td>\n",
              "      <td>0.0</td>\n",
              "      <td>0.0</td>\n",
              "      <td>0.0</td>\n",
              "      <td>0.0</td>\n",
              "      <td>0.0</td>\n",
              "      <td>0.0</td>\n",
              "      <td>NaN</td>\n",
              "      <td>NaN</td>\n",
              "      <td>NaN</td>\n",
              "      <td>NaN</td>\n",
              "      <td>NaN</td>\n",
              "      <td>NaN</td>\n",
              "      <td>NaN</td>\n",
              "      <td>0.0</td>\n",
              "      <td>1380004385.0</td>\n",
              "      <td>450.419</td>\n",
              "      <td>28.2</td>\n",
              "      <td>5.989</td>\n",
              "      <td>3.414</td>\n",
              "      <td>6426.674</td>\n",
              "      <td>21.2</td>\n",
              "      <td>282.28</td>\n",
              "      <td>10.39</td>\n",
              "      <td>1.9</td>\n",
              "      <td>20.6</td>\n",
              "      <td>59.55</td>\n",
              "      <td>0.53</td>\n",
              "      <td>69.66</td>\n",
              "    </tr>\n",
              "    <tr>\n",
              "      <th>13432</th>\n",
              "      <td>IND</td>\n",
              "      <td>Asia</td>\n",
              "      <td>India</td>\n",
              "      <td>2020-01-04</td>\n",
              "      <td>0.0</td>\n",
              "      <td>0.0</td>\n",
              "      <td>0.0</td>\n",
              "      <td>0.0</td>\n",
              "      <td>0.0</td>\n",
              "      <td>0.0</td>\n",
              "      <td>0.0</td>\n",
              "      <td>0.0</td>\n",
              "      <td>NaN</td>\n",
              "      <td>NaN</td>\n",
              "      <td>NaN</td>\n",
              "      <td>NaN</td>\n",
              "      <td>NaN</td>\n",
              "      <td>NaN</td>\n",
              "      <td>NaN</td>\n",
              "      <td>0.0</td>\n",
              "      <td>1380004385.0</td>\n",
              "      <td>450.419</td>\n",
              "      <td>28.2</td>\n",
              "      <td>5.989</td>\n",
              "      <td>3.414</td>\n",
              "      <td>6426.674</td>\n",
              "      <td>21.2</td>\n",
              "      <td>282.28</td>\n",
              "      <td>10.39</td>\n",
              "      <td>1.9</td>\n",
              "      <td>20.6</td>\n",
              "      <td>59.55</td>\n",
              "      <td>0.53</td>\n",
              "      <td>69.66</td>\n",
              "    </tr>\n",
              "  </tbody>\n",
              "</table>\n",
              "</div>"
            ],
            "text/plain": [
              "0     iso_code continent  ... hospital_beds_per_thousand life_expectancy\n",
              "13428      IND      Asia  ...                       0.53           69.66\n",
              "13429      IND      Asia  ...                       0.53           69.66\n",
              "13430      IND      Asia  ...                       0.53           69.66\n",
              "13431      IND      Asia  ...                       0.53           69.66\n",
              "13432      IND      Asia  ...                       0.53           69.66\n",
              "\n",
              "[5 rows x 34 columns]"
            ]
          },
          "metadata": {
            "tags": []
          },
          "execution_count": 118
        }
      ]
    },
    {
      "cell_type": "code",
      "metadata": {
        "id": "9pF0hQFRL_CM",
        "colab": {
          "base_uri": "https://localhost:8080/",
          "height": 302
        },
        "outputId": "177f31c1-0d06-4570-ca8f-59d58891dd9d"
      },
      "source": [
        "drop=[]\n",
        "for i in df.columns:\n",
        "  if(len(df[i].unique())==1):\n",
        "    drop.append(i)\n",
        "    print(df[i].unique())"
      ],
      "execution_count": null,
      "outputs": [
        {
          "output_type": "stream",
          "text": [
            "['IND']\n",
            "['Asia']\n",
            "['India']\n",
            "['1380004385.0']\n",
            "['450.419']\n",
            "['28.2']\n",
            "['5.989']\n",
            "['3.414']\n",
            "['6426.674']\n",
            "['21.2']\n",
            "['282.28']\n",
            "['10.39']\n",
            "['1.9']\n",
            "['20.6']\n",
            "['59.55']\n",
            "['0.53']\n",
            "['69.66']\n"
          ],
          "name": "stdout"
        }
      ]
    },
    {
      "cell_type": "code",
      "metadata": {
        "id": "ortDb6OCPPKp"
      },
      "source": [
        "df=df.drop(drop,axis=1)"
      ],
      "execution_count": null,
      "outputs": []
    },
    {
      "cell_type": "code",
      "metadata": {
        "id": "9sIkiYOjQ-eL",
        "colab": {
          "base_uri": "https://localhost:8080/",
          "height": 134
        },
        "outputId": "1bd55e01-7e0e-4026-ca75-ee333e964670"
      },
      "source": [
        "df.columns"
      ],
      "execution_count": null,
      "outputs": [
        {
          "output_type": "execute_result",
          "data": {
            "text/plain": [
              "Index(['date', 'total_cases', 'new_cases', 'total_deaths', 'new_deaths',\n",
              "       'total_cases_per_million', 'new_cases_per_million',\n",
              "       'total_deaths_per_million', 'new_deaths_per_million', 'total_tests',\n",
              "       'new_tests', 'total_tests_per_thousand', 'new_tests_per_thousand',\n",
              "       'new_tests_smoothed', 'new_tests_smoothed_per_thousand', 'tests_units',\n",
              "       'stringency_index'],\n",
              "      dtype='object', name=0)"
            ]
          },
          "metadata": {
            "tags": []
          },
          "execution_count": 121
        }
      ]
    },
    {
      "cell_type": "code",
      "metadata": {
        "id": "Q0Y4V5EsPQND",
        "colab": {
          "base_uri": "https://localhost:8080/",
          "height": 299
        },
        "outputId": "260dec99-c902-4cfd-b82e-1595a2548982"
      },
      "source": [
        "df.head()"
      ],
      "execution_count": null,
      "outputs": [
        {
          "output_type": "execute_result",
          "data": {
            "text/html": [
              "<div>\n",
              "<style scoped>\n",
              "    .dataframe tbody tr th:only-of-type {\n",
              "        vertical-align: middle;\n",
              "    }\n",
              "\n",
              "    .dataframe tbody tr th {\n",
              "        vertical-align: top;\n",
              "    }\n",
              "\n",
              "    .dataframe thead th {\n",
              "        text-align: right;\n",
              "    }\n",
              "</style>\n",
              "<table border=\"1\" class=\"dataframe\">\n",
              "  <thead>\n",
              "    <tr style=\"text-align: right;\">\n",
              "      <th></th>\n",
              "      <th>date</th>\n",
              "      <th>total_cases</th>\n",
              "      <th>new_cases</th>\n",
              "      <th>total_deaths</th>\n",
              "      <th>new_deaths</th>\n",
              "      <th>total_cases_per_million</th>\n",
              "      <th>new_cases_per_million</th>\n",
              "      <th>total_deaths_per_million</th>\n",
              "      <th>new_deaths_per_million</th>\n",
              "      <th>total_tests</th>\n",
              "      <th>new_tests</th>\n",
              "      <th>total_tests_per_thousand</th>\n",
              "      <th>new_tests_per_thousand</th>\n",
              "      <th>new_tests_smoothed</th>\n",
              "      <th>new_tests_smoothed_per_thousand</th>\n",
              "      <th>tests_units</th>\n",
              "      <th>stringency_index</th>\n",
              "    </tr>\n",
              "  </thead>\n",
              "  <tbody>\n",
              "    <tr>\n",
              "      <th>13428</th>\n",
              "      <td>2019-12-31</td>\n",
              "      <td>0.0</td>\n",
              "      <td>0.0</td>\n",
              "      <td>0.0</td>\n",
              "      <td>0.0</td>\n",
              "      <td>0.0</td>\n",
              "      <td>0.0</td>\n",
              "      <td>0.0</td>\n",
              "      <td>0.0</td>\n",
              "      <td>NaN</td>\n",
              "      <td>NaN</td>\n",
              "      <td>NaN</td>\n",
              "      <td>NaN</td>\n",
              "      <td>NaN</td>\n",
              "      <td>NaN</td>\n",
              "      <td>NaN</td>\n",
              "      <td>NaN</td>\n",
              "    </tr>\n",
              "    <tr>\n",
              "      <th>13429</th>\n",
              "      <td>2020-01-01</td>\n",
              "      <td>0.0</td>\n",
              "      <td>0.0</td>\n",
              "      <td>0.0</td>\n",
              "      <td>0.0</td>\n",
              "      <td>0.0</td>\n",
              "      <td>0.0</td>\n",
              "      <td>0.0</td>\n",
              "      <td>0.0</td>\n",
              "      <td>NaN</td>\n",
              "      <td>NaN</td>\n",
              "      <td>NaN</td>\n",
              "      <td>NaN</td>\n",
              "      <td>NaN</td>\n",
              "      <td>NaN</td>\n",
              "      <td>NaN</td>\n",
              "      <td>0.0</td>\n",
              "    </tr>\n",
              "    <tr>\n",
              "      <th>13430</th>\n",
              "      <td>2020-01-02</td>\n",
              "      <td>0.0</td>\n",
              "      <td>0.0</td>\n",
              "      <td>0.0</td>\n",
              "      <td>0.0</td>\n",
              "      <td>0.0</td>\n",
              "      <td>0.0</td>\n",
              "      <td>0.0</td>\n",
              "      <td>0.0</td>\n",
              "      <td>NaN</td>\n",
              "      <td>NaN</td>\n",
              "      <td>NaN</td>\n",
              "      <td>NaN</td>\n",
              "      <td>NaN</td>\n",
              "      <td>NaN</td>\n",
              "      <td>NaN</td>\n",
              "      <td>0.0</td>\n",
              "    </tr>\n",
              "    <tr>\n",
              "      <th>13431</th>\n",
              "      <td>2020-01-03</td>\n",
              "      <td>0.0</td>\n",
              "      <td>0.0</td>\n",
              "      <td>0.0</td>\n",
              "      <td>0.0</td>\n",
              "      <td>0.0</td>\n",
              "      <td>0.0</td>\n",
              "      <td>0.0</td>\n",
              "      <td>0.0</td>\n",
              "      <td>NaN</td>\n",
              "      <td>NaN</td>\n",
              "      <td>NaN</td>\n",
              "      <td>NaN</td>\n",
              "      <td>NaN</td>\n",
              "      <td>NaN</td>\n",
              "      <td>NaN</td>\n",
              "      <td>0.0</td>\n",
              "    </tr>\n",
              "    <tr>\n",
              "      <th>13432</th>\n",
              "      <td>2020-01-04</td>\n",
              "      <td>0.0</td>\n",
              "      <td>0.0</td>\n",
              "      <td>0.0</td>\n",
              "      <td>0.0</td>\n",
              "      <td>0.0</td>\n",
              "      <td>0.0</td>\n",
              "      <td>0.0</td>\n",
              "      <td>0.0</td>\n",
              "      <td>NaN</td>\n",
              "      <td>NaN</td>\n",
              "      <td>NaN</td>\n",
              "      <td>NaN</td>\n",
              "      <td>NaN</td>\n",
              "      <td>NaN</td>\n",
              "      <td>NaN</td>\n",
              "      <td>0.0</td>\n",
              "    </tr>\n",
              "  </tbody>\n",
              "</table>\n",
              "</div>"
            ],
            "text/plain": [
              "0            date total_cases  ... tests_units stringency_index\n",
              "13428  2019-12-31         0.0  ...         NaN              NaN\n",
              "13429  2020-01-01         0.0  ...         NaN              0.0\n",
              "13430  2020-01-02         0.0  ...         NaN              0.0\n",
              "13431  2020-01-03         0.0  ...         NaN              0.0\n",
              "13432  2020-01-04         0.0  ...         NaN              0.0\n",
              "\n",
              "[5 rows x 17 columns]"
            ]
          },
          "metadata": {
            "tags": []
          },
          "execution_count": 122
        }
      ]
    },
    {
      "cell_type": "code",
      "metadata": {
        "id": "GgXnOu9hSWQY"
      },
      "source": [
        "for i in df.columns:\n",
        "  if((df[i]=='0.0').mean()>.5):\n",
        "    print(i)\n",
        "  if((df[i].isnull()).mean()>.5):\n",
        "    print(i)"
      ],
      "execution_count": null,
      "outputs": []
    },
    {
      "cell_type": "code",
      "metadata": {
        "id": "Tq-zZ04wVjqr"
      },
      "source": [
        "import datetime as dt\n",
        "df[\"date\"]=pd.to_datetime(df[\"date\"])\n",
        "df[\"date\"]=df[\"date\"].map(dt.datetime.toordinal)"
      ],
      "execution_count": null,
      "outputs": []
    },
    {
      "cell_type": "code",
      "metadata": {
        "id": "sXG1P3_sTnEo",
        "colab": {
          "base_uri": "https://localhost:8080/",
          "height": 1000
        },
        "outputId": "460047ee-b0b5-477b-d79b-65406378d809"
      },
      "source": [
        "for i in df.columns:\n",
        "    print(len(df[i].unique()))\n",
        "    print(df[i].unique())"
      ],
      "execution_count": null,
      "outputs": [
        {
          "output_type": "stream",
          "text": [
            "205\n",
            "[737424 737425 737426 737427 737428 737429 737430 737431 737432 737433\n",
            " 737434 737435 737436 737437 737438 737439 737440 737441 737442 737443\n",
            " 737444 737445 737446 737447 737448 737449 737450 737451 737452 737453\n",
            " 737454 737455 737456 737457 737458 737459 737460 737461 737462 737463\n",
            " 737464 737465 737466 737467 737468 737469 737470 737471 737472 737473\n",
            " 737474 737475 737476 737477 737478 737479 737480 737481 737482 737483\n",
            " 737484 737485 737486 737487 737488 737489 737490 737491 737492 737494\n",
            " 737495 737496 737497 737498 737499 737500 737501 737502 737503 737504\n",
            " 737505 737506 737507 737508 737509 737510 737511 737512 737513 737514\n",
            " 737515 737516 737517 737518 737519 737520 737521 737522 737523 737524\n",
            " 737525 737526 737527 737528 737529 737530 737531 737532 737533 737534\n",
            " 737535 737536 737537 737538 737539 737540 737541 737542 737543 737544\n",
            " 737545 737546 737547 737548 737549 737550 737551 737552 737553 737554\n",
            " 737555 737556 737557 737558 737559 737560 737561 737562 737563 737564\n",
            " 737565 737566 737567 737568 737569 737570 737571 737572 737573 737574\n",
            " 737575 737576 737577 737578 737579 737580 737581 737582 737583 737584\n",
            " 737585 737586 737587 737588 737589 737590 737591 737592 737593 737594\n",
            " 737595 737596 737597 737598 737599 737600 737601 737602 737603 737604\n",
            " 737605 737606 737607 737608 737609 737610 737611 737612 737613 737614\n",
            " 737615 737616 737617 737618 737619 737620 737621 737622 737623 737624\n",
            " 737625 737626 737627 737628 737629]\n",
            "146\n",
            "['0.0' '1.0' '2.0' '3.0' '5.0' '6.0' '28.0' '29.0' '31.0' '34.0' '44.0'\n",
            " '50.0' '73.0' '75.0' '83.0' '90.0' '93.0' '125.0' '137.0' '165.0' '191.0'\n",
            " '231.0' '320.0' '439.0' '492.0' '562.0' '649.0' '724.0' '873.0' '979.0'\n",
            " '1071.0' '1251.0' '1397.0' '1965.0' '2301.0' '2902.0' '3374.0' '4067.0'\n",
            " '4421.0' '5194.0' '5734.0' '6412.0' '7447.0' '8356.0' '9152.0' '10363.0'\n",
            " '11438.0' '12380.0' '13387.0' '14378.0' '15712.0' '17265.0' '18600.0'\n",
            " '19984.0' '21393.0' '23077.0' '24506.0' '26496.0' '27892.0' '29435.0'\n",
            " '31332.0' '33050.0' '35043.0' '37336.0' '39980.0' '42533.0' '46433.0'\n",
            " '49391.0' '52952.0' '56342.0' '59662.0' '62939.0' '67152.0' '70756.0'\n",
            " '74281.0' '78003.0' '81970.0' '85940.0' '90927.0' '96169.0' '101139.0'\n",
            " '106750.0' '112359.0' '118447.0' '125101.0' '131868.0' '138845.0'\n",
            " '145380.0' '151767.0' '158333.0' '165799.0' '173763.0' '182143.0'\n",
            " '190535.0' '198706.0' '207615.0' '216919.0' '226770.0' '236657.0'\n",
            " '246628.0' '256611.0' '266598.0' '276583.0' '286579.0' '297535.0'\n",
            " '308993.0' '320922.0' '332424.0' '343091.0' '354065.0' '366946.0'\n",
            " '380532.0' '395048.0' '410461.0' '425282.0' '440215.0' '456183.0'\n",
            " '473105.0' '490401.0' '508953.0' '528859.0' '548318.0' '566840.0'\n",
            " '585493.0' '604641.0' '625544.0' '648315.0' '673165.0' '697413.0'\n",
            " '719665.0' '742417.0' '767296.0' '793802.0' '820916.0' '849553.0'\n",
            " '878254.0' '906752.0' '936181.0' '968876.0' '1003832.0' '1038716.0'\n",
            " '1077618.0' '1118043.0' '1155191.0' '1192915.0' '1238635.0']\n",
            "139\n",
            "['0.0' '1.0' '2.0' '22.0' '3.0' '10.0' '6.0' '23.0' '8.0' '7.0' '32.0'\n",
            " '12.0' '28.0' '26.0' '40.0' '89.0' '119.0' '53.0' '70.0' '87.0' '75.0'\n",
            " '149.0' '106.0' '92.0' '180.0' '146.0' '568.0' '336.0' '601.0' '472.0'\n",
            " '693.0' '354.0' '773.0' '540.0' '678.0' '1035.0' '909.0' '796.0' '1211.0'\n",
            " '1075.0' '942.0' '1007.0' '991.0' '1334.0' '1553.0' '1335.0' '1384.0'\n",
            " '1409.0' '1684.0' '1429.0' '1990.0' '1396.0' '1543.0' '1897.0' '1718.0'\n",
            " '1993.0' '2293.0' '2644.0' '2553.0' '3900.0' '2958.0' '3561.0' '3390.0'\n",
            " '3320.0' '3277.0' '4213.0' '3604.0' '3525.0' '3722.0' '3967.0' '3970.0'\n",
            " '4987.0' '5242.0' '4970.0' '5611.0' '5609.0' '6088.0' '6654.0' '6767.0'\n",
            " '6977.0' '6535.0' '6387.0' '6566.0' '7466.0' '7964.0' '8380.0' '8392.0'\n",
            " '8171.0' '8909.0' '9304.0' '9851.0' '9887.0' '9971.0' '9983.0' '9987.0'\n",
            " '9985.0' '9996.0' '10956.0' '11458.0' '11929.0' '11502.0' '10667.0'\n",
            " '10974.0' '12881.0' '13586.0' '14516.0' '15413.0' '14821.0' '14933.0'\n",
            " '15968.0' '16922.0' '17296.0' '18552.0' '19906.0' '19459.0' '18522.0'\n",
            " '18653.0' '19148.0' '20903.0' '22771.0' '24850.0' '24248.0' '22252.0'\n",
            " '22752.0' '24879.0' '26506.0' '27114.0' '28637.0' '28701.0' '28498.0'\n",
            " '29429.0' '32695.0' '34956.0' '34884.0' '38902.0' '40425.0' '37148.0'\n",
            " '37724.0' '45720.0']\n",
            "127\n",
            "['0.0' '1.0' '2.0' '3.0' '4.0' '7.0' '9.0' '13.0' '17.0' '19.0' '25.0'\n",
            " '29.0' '32.0' '35.0' '50.0' '56.0' '68.0' '77.0' '109.0' '114.0' '149.0'\n",
            " '166.0' '199.0' '239.0' '273.0' '308.0' '339.0' '377.0' '414.0' '437.0'\n",
            " '480.0' '507.0' '543.0' '590.0' '640.0' '681.0' '718.0' '775.0' '824.0'\n",
            " '872.0' '934.0' '1007.0' '1074.0' '1147.0' '1218.0' '1301.0' '1373.0'\n",
            " '1568.0' '1694.0' '1783.0' '1886.0' '1981.0' '2109.0' '2206.0' '2293.0'\n",
            " '2415.0' '2549.0' '2649.0' '2752.0' '2872.0' '3029.0' '3163.0' '3303.0'\n",
            " '3435.0' '3583.0' '3720.0' '3867.0' '4021.0' '4167.0' '4337.0' '4531.0'\n",
            " '4706.0' '4971.0' '5164.0' '5394.0' '5598.0' '5815.0' '6075.0' '6348.0'\n",
            " '6642.0' '6929.0' '7135.0' '7466.0' '7745.0' '8102.0' '8498.0' '8884.0'\n",
            " '9195.0' '9520.0' '9900.0' '11903.0' '12237.0' '12573.0' '12948.0'\n",
            " '13254.0' '13699.0' '14011.0' '14476.0' '14894.0' '15301.0' '15685.0'\n",
            " '16095.0' '16475.0' '16893.0' '17400.0' '17834.0' '18213.0' '18655.0'\n",
            " '19268.0' '19693.0' '20160.0' '20642.0' '21129.0' '21604.0' '22123.0'\n",
            " '22674.0' '23174.0' '23727.0' '24309.0' '24915.0' '25602.0' '26273.0'\n",
            " '26816.0' '27497.0' '28084.0' '28732.0' '29861.0']\n",
            "111\n",
            "['0.0' '1.0' '3.0' '2.0' '4.0' '6.0' '15.0' '12.0' '9.0' '32.0' '5.0'\n",
            " '35.0' '17.0' '33.0' '40.0' '34.0' '31.0' '38.0' '37.0' '23.0' '43.0'\n",
            " '27.0' '36.0' '47.0' '50.0' '41.0' '57.0' '49.0' '48.0' '62.0' '73.0'\n",
            " '67.0' '71.0' '83.0' '72.0' '195.0' '126.0' '89.0' '103.0' '95.0' '128.0'\n",
            " '97.0' '87.0' '122.0' '134.0' '100.0' '120.0' '157.0' '140.0' '132.0'\n",
            " '148.0' '137.0' '147.0' '154.0' '146.0' '170.0' '194.0' '175.0' '265.0'\n",
            " '193.0' '230.0' '204.0' '217.0' '260.0' '273.0' '294.0' '287.0' '206.0'\n",
            " '331.0' '279.0' '357.0' '396.0' '386.0' '311.0' '325.0' '380.0' '2003.0'\n",
            " '334.0' '336.0' '375.0' '306.0' '445.0' '312.0' '465.0' '418.0' '407.0'\n",
            " '384.0' '410.0' '507.0' '434.0' '379.0' '442.0' '613.0' '425.0' '467.0'\n",
            " '482.0' '487.0' '475.0' '519.0' '551.0' '500.0' '553.0' '582.0' '606.0'\n",
            " '687.0' '671.0' '543.0' '681.0' '587.0' '648.0' '1129.0']\n",
            "144\n",
            "['0.0' '0.001' '0.002' '0.004' '0.02' '0.021' '0.022' '0.025' '0.032'\n",
            " '0.036' '0.053' '0.054' '0.06' '0.065' '0.067' '0.091' '0.099' '0.12'\n",
            " '0.138' '0.167' '0.232' '0.318' '0.357' '0.407' '0.47' '0.525' '0.633'\n",
            " '0.709' '0.776' '0.907' '1.012' '1.424' '1.667' '2.103' '2.445' '2.947'\n",
            " '3.204' '3.764' '4.155' '4.646' '5.396' '6.055' '6.632' '7.509' '8.288'\n",
            " '8.971' '9.701' '10.419' '11.385' '12.511' '13.478' '14.481' '15.502'\n",
            " '16.722' '17.758' '19.2' '20.212' '21.33' '22.704' '23.949' '25.393'\n",
            " '27.055' '28.971' '30.821' '33.647' '35.79' '38.371' '40.827' '43.233'\n",
            " '45.608' '48.661' '51.272' '53.827' '56.524' '59.398' '62.275' '65.889'\n",
            " '69.687' '73.289' '77.355' '81.419' '85.831' '90.653' '95.556' '100.612'\n",
            " '105.347' '109.976' '114.734' '120.144' '125.915' '131.987' '138.068'\n",
            " '143.989' '150.445' '157.187' '164.326' '171.49' '178.715' '185.949'\n",
            " '193.186' '200.422' '207.665' '215.604' '223.907' '232.551' '240.886'\n",
            " '248.616' '256.568' '265.902' '275.747' '286.266' '297.435' '308.174'\n",
            " '318.995' '330.566' '342.829' '355.362' '368.805' '383.23' '397.331'\n",
            " '410.752' '424.269' '438.144' '453.291' '469.792' '487.799' '505.37'\n",
            " '521.495' '537.982' '556.01' '575.217' '594.865' '615.616' '636.414'\n",
            " '657.065' '678.39' '702.082' '727.412' '752.69' '780.88' '810.174'\n",
            " '837.092' '864.428' '897.559']\n",
            "137\n",
            "['0.0' '0.001' '0.016' '0.002' '0.007' '0.004' '0.017' '0.006' '0.005'\n",
            " '0.023' '0.009' '0.02' '0.019' '0.029' '0.064' '0.086' '0.038' '0.051'\n",
            " '0.063' '0.054' '0.108' '0.077' '0.067' '0.13' '0.106' '0.412' '0.243'\n",
            " '0.436' '0.342' '0.502' '0.257' '0.56' '0.391' '0.491' '0.75' '0.659'\n",
            " '0.577' '0.878' '0.779' '0.683' '0.73' '0.718' '0.967' '1.125' '1.003'\n",
            " '1.021' '1.22' '1.036' '1.442' '1.012' '1.118' '1.375' '1.245' '1.444'\n",
            " '1.662' '1.916' '1.85' '2.826' '2.143' '2.58' '2.457' '2.406' '2.375'\n",
            " '3.053' '2.612' '2.554' '2.697' '2.875' '2.877' '3.614' '3.799' '3.601'\n",
            " '4.066' '4.064' '4.412' '4.822' '4.904' '5.056' '4.735' '4.628' '4.758'\n",
            " '5.41' '5.771' '6.072' '6.081' '5.921' '6.456' '6.742' '7.138' '7.164'\n",
            " '7.225' '7.234' '7.237' '7.235' '7.243' '7.939' '8.303' '8.644' '8.335'\n",
            " '7.73' '7.952' '9.334' '9.845' '10.519' '11.169' '10.74' '10.821'\n",
            " '11.571' '12.262' '12.533' '13.443' '14.425' '14.101' '13.422' '13.517'\n",
            " '13.875' '15.147' '16.501' '18.007' '17.571' '16.125' '16.487' '18.028'\n",
            " '19.207' '19.648' '20.751' '20.798' '20.651' '21.325' '23.692' '25.33'\n",
            " '25.278' '28.19' '29.293' '26.919' '27.336' '33.13']\n",
            "126\n",
            "['0.0' '0.001' '0.002' '0.003' '0.005' '0.007' '0.009' '0.012' '0.014'\n",
            " '0.018' '0.021' '0.023' '0.025' '0.036' '0.041' '0.049' '0.056' '0.079'\n",
            " '0.083' '0.108' '0.12' '0.144' '0.173' '0.198' '0.223' '0.246' '0.273'\n",
            " '0.3' '0.317' '0.348' '0.367' '0.393' '0.428' '0.464' '0.493' '0.52'\n",
            " '0.562' '0.597' '0.632' '0.677' '0.73' '0.778' '0.831' '0.883' '0.943'\n",
            " '0.995' '1.136' '1.228' '1.292' '1.367' '1.436' '1.528' '1.599' '1.662'\n",
            " '1.75' '1.847' '1.92' '1.994' '2.081' '2.195' '2.292' '2.393' '2.489'\n",
            " '2.596' '2.696' '2.802' '2.914' '3.02' '3.143' '3.283' '3.41' '3.602'\n",
            " '3.742' '3.909' '4.057' '4.214' '4.402' '4.6' '4.813' '5.021' '5.17'\n",
            " '5.41' '5.612' '5.871' '6.158' '6.438' '6.663' '6.899' '7.174' '8.625'\n",
            " '8.867' '9.111' '9.383' '9.604' '9.927' '10.153' '10.49' '10.793'\n",
            " '11.088' '11.366' '11.663' '11.938' '12.241' '12.609' '12.923' '13.198'\n",
            " '13.518' '13.962' '14.27' '14.609' '14.958' '15.311' '15.655' '16.031'\n",
            " '16.43' '16.793' '17.193' '17.615' '18.054' '18.552' '19.038' '19.432'\n",
            " '19.925' '20.351' '20.82' '21.638']\n",
            "104\n",
            "['0.0' '0.001' '0.002' '0.003' '0.004' '0.011' '0.009' '0.007' '0.023'\n",
            " '0.025' '0.012' '0.024' '0.029' '0.022' '0.028' '0.027' '0.017' '0.031'\n",
            " '0.02' '0.026' '0.034' '0.036' '0.03' '0.041' '0.035' '0.045' '0.053'\n",
            " '0.049' '0.051' '0.06' '0.052' '0.141' '0.091' '0.064' '0.075' '0.069'\n",
            " '0.093' '0.07' '0.063' '0.088' '0.097' '0.072' '0.087' '0.114' '0.101'\n",
            " '0.096' '0.107' '0.099' '0.112' '0.106' '0.123' '0.127' '0.192' '0.14'\n",
            " '0.167' '0.148' '0.157' '0.188' '0.198' '0.213' '0.208' '0.149' '0.24'\n",
            " '0.202' '0.259' '0.287' '0.28' '0.225' '0.236' '0.275' '1.451' '0.242'\n",
            " '0.243' '0.272' '0.222' '0.322' '0.226' '0.337' '0.303' '0.295' '0.278'\n",
            " '0.297' '0.367' '0.314' '0.32' '0.444' '0.308' '0.338' '0.349' '0.353'\n",
            " '0.344' '0.376' '0.399' '0.362' '0.401' '0.422' '0.439' '0.498' '0.486'\n",
            " '0.393' '0.493' '0.425' '0.47' '0.818']\n",
            "121\n",
            "[nan '6500.0' '13125.0' '13316.0' '14376.0' '15701.0' '16999.0' '20707.0'\n",
            " '20864.0' '25144.0' '27688.0' '47951.0' '69245.0' '79950.0' '89534.0'\n",
            " '101068.0' '114015.0' '127919.0' '144910.0' '161330.0' '179374.0'\n",
            " '195748.0' '217554.0' '244893.0' '274599.0' '302956.0' '335123.0'\n",
            " '372123.0' '401586.0' '462621.0' '500542.0' '541789.0' '579957.0'\n",
            " '625309.0' '665819.0' '716733.0' '770764.0' '830201.0' '902654.0'\n",
            " '976363.0' '1046450.0' '1107233.0' '1191946.0' '1276781.0' '1357413.0'\n",
            " '1437788.0' '1523213.0' '1609037.0' '1673688.0' '1759579.0' '1854250.0'\n",
            " '1947041.0' '2039952.0' '2134277.0' '2227642.0' '2302792.0' '2404267.0'\n",
            " '2512388.0' '2615920.0' '2719434.0' '2834798.0' '2943421.0' '3033591.0'\n",
            " '3126119.0' '3242160.0' '3362136.0' '3483838.0' '3611599.0' '3737027.0'\n",
            " '3837207.0' '3966075.0' '4103233.0' '4242718.0' '4386379.0' '4524317.0'\n",
            " '4666386.0' '4774434.0' '4916116.0' '5061332.0' '5213140.0' '5363445.0'\n",
            " '5507182.0' '5658614.0' '5774133.0' '5921069.0' '6084256.0' '6249668.0'\n",
            " '6426627.0' '6616496.0' '6807226.0' '6950493.0' '7137716.0' '7352911.0'\n",
            " '7560782.0' '7776228.0' '7996707.0' '8227802.0' '8398362.0' '8608654.0'\n",
            " '8826585.0' '9056173.0' '9297749.0' '9540132.0' '9789066.0' '9969662.0'\n",
            " '10211092.0' '10473771.0' '10740832.0' '11024491.0' '11307002.0'\n",
            " '11587153.0' '11806256.0' '12092503.0' '12412664.0' '12739490.0'\n",
            " '13072718.0' '13433742.0' '13791869.0' '14047908.0' '14381303.0'\n",
            " '14724546.0']\n",
            "115\n",
            "[nan '191.0' '1060.0' '1325.0' '1298.0' '3708.0' '157.0' '4280.0'\n",
            " '21294.0' '10705.0' '9584.0' '11534.0' '12947.0' '13904.0' '16991.0'\n",
            " '16420.0' '18044.0' '16374.0' '21806.0' '27339.0' '29706.0' '28357.0'\n",
            " '32167.0' '37000.0' '29463.0' '41247.0' '38168.0' '45352.0' '40510.0'\n",
            " '50914.0' '54031.0' '59437.0' '72453.0' '73709.0' '70087.0' '60783.0'\n",
            " '84713.0' '84835.0' '80632.0' '80375.0' '85425.0' '85824.0' '64651.0'\n",
            " '85891.0' '94671.0' '92791.0' '92911.0' '94325.0' '93365.0' '75150.0'\n",
            " '101475.0' '108121.0' '103532.0' '103514.0' '115364.0' '108623.0'\n",
            " '90170.0' '92528.0' '116041.0' '119976.0' '121702.0' '127761.0'\n",
            " '125428.0' '100180.0' '128868.0' '137158.0' '139485.0' '143661.0'\n",
            " '137938.0' '142069.0' '108048.0' '141682.0' '145216.0' '151808.0'\n",
            " '150305.0' '143737.0' '151432.0' '115519.0' '146936.0' '163187.0'\n",
            " '165412.0' '176959.0' '189869.0' '190730.0' '143267.0' '187223.0'\n",
            " '215195.0' '207871.0' '215446.0' '220479.0' '231095.0' '170560.0'\n",
            " '210292.0' '217931.0' '229588.0' '241576.0' '242383.0' '248934.0'\n",
            " '180596.0' '241430.0' '262679.0' '267061.0' '283659.0' '282511.0'\n",
            " '280151.0' '219103.0' '286247.0' '320161.0' '326826.0' '333228.0'\n",
            " '361024.0' '358127.0' '256039.0' '333395.0' '343243.0']\n",
            "118\n",
            "[nan '0.005' '0.01' '0.011' '0.012' '0.015' '0.018' '0.02' '0.035' '0.05'\n",
            " '0.058' '0.065' '0.073' '0.083' '0.093' '0.105' '0.117' '0.13' '0.142'\n",
            " '0.158' '0.177' '0.199' '0.22' '0.243' '0.27' '0.291' '0.335' '0.363'\n",
            " '0.393' '0.42' '0.453' '0.482' '0.519' '0.559' '0.602' '0.654' '0.708'\n",
            " '0.758' '0.802' '0.864' '0.925' '0.984' '1.042' '1.104' '1.166' '1.213'\n",
            " '1.275' '1.344' '1.411' '1.478' '1.547' '1.614' '1.669' '1.742' '1.821'\n",
            " '1.896' '1.971' '2.054' '2.133' '2.198' '2.265' '2.349' '2.436' '2.525'\n",
            " '2.617' '2.708' '2.781' '2.874' '2.973' '3.074' '3.179' '3.278' '3.381'\n",
            " '3.46' '3.562' '3.668' '3.778' '3.887' '3.991' '4.1' '4.184' '4.291'\n",
            " '4.409' '4.529' '4.657' '4.795' '4.933' '5.037' '5.172' '5.328' '5.479'\n",
            " '5.635' '5.795' '5.962' '6.086' '6.238' '6.396' '6.562' '6.737' '6.913'\n",
            " '7.094' '7.224' '7.399' '7.59' '7.783' '7.989' '8.193' '8.396' '8.555'\n",
            " '8.763' '8.995' '9.231' '9.473' '9.735' '9.994' '10.18' '10.421' '10.67']\n",
            "87\n",
            "[nan '0.0' '0.001' '0.003' '0.015' '0.008' '0.007' '0.009' '0.01' '0.012'\n",
            " '0.013' '0.016' '0.02' '0.022' '0.021' '0.023' '0.027' '0.03' '0.028'\n",
            " '0.033' '0.029' '0.037' '0.039' '0.043' '0.053' '0.051' '0.044' '0.061'\n",
            " '0.058' '0.062' '0.047' '0.069' '0.067' '0.068' '0.054' '0.074' '0.078'\n",
            " '0.075' '0.084' '0.079' '0.065' '0.087' '0.088' '0.093' '0.091' '0.073'\n",
            " '0.099' '0.101' '0.104' '0.1' '0.103' '0.105' '0.11' '0.109' '0.106'\n",
            " '0.118' '0.12' '0.128' '0.138' '0.136' '0.156' '0.151' '0.16' '0.167'\n",
            " '0.124' '0.152' '0.158' '0.166' '0.175' '0.176' '0.18' '0.131' '0.19'\n",
            " '0.194' '0.206' '0.205' '0.203' '0.159' '0.207' '0.232' '0.237' '0.241'\n",
            " '0.262' '0.26' '0.186' '0.242' '0.249']\n",
            "125\n",
            "[nan '1125.0' '1121.0' '1462.0' '1295.0' '1717.0' '1871.0' '1902.0'\n",
            " '2195.0' '2492.0' '2445.0' '2905.0' '2776.0' '3076.0' '5937.0' '6984.0'\n",
            " '7870.0' '9036.0' '10403.0' '11906.0' '13851.0' '13155.0' '14203.0'\n",
            " '15173.0' '16641.0' '18697.0' '20954.0' '22578.0' '24828.0' '27536.0'\n",
            " '29405.0' '30650.0' '31104.0' '29569.0' '28227.0' '29524.0' '29691.0'\n",
            " '31960.0' '33388.0' '36302.0' '41312.0' '47094.0' '51552.0' '56629.0'\n",
            " '60163.0' '63059.0' '67888.0' '72288.0' '75316.0' '76448.0' '78121.0'\n",
            " '80370.0' '80922.0' '81090.0' '82496.0' '84233.0' '86023.0' '87295.0'\n",
            " '88372.0' '89872.0' '92098.0' '94020.0' '95554.0' '97069.0' '100074.0'\n",
            " '102254.0' '104400.0' '103122.0' '104253.0' '106602.0' '109201.0'\n",
            " '110972.0' '113372.0' '114802.0' '119994.0' '123010.0' '125797.0'\n",
            " '128934.0' '130388.0' '132766.0' '133890.0' '135720.0' '136871.0'\n",
            " '138632.0' '139581.0' '140409.0' '141747.0' '142814.0' '143565.0'\n",
            " '146132.0' '148075.0' '151883.0' '158473.0' '164087.0' '168051.0'\n",
            " '173807.0' '181236.0' '187302.0' '192800.0' '197173.0' '202939.0'\n",
            " '206838.0' '210134.0' '210525.0' '213627.0' '217360.0' '220489.0'\n",
            " '223038.0' '224471.0' '228920.0' '235312.0' '240666.0' '246677.0'\n",
            " '252410.0' '256870.0' '262371.0' '268773.0' '276985.0' '285523.0'\n",
            " '292604.0' '303820.0' '314959.0' '320236.0' '326971.0' '330269.0']\n",
            "103\n",
            "[nan '0.001' '0.002' '0.004' '0.005' '0.006' '0.007' '0.008' '0.009'\n",
            " '0.01' '0.011' '0.012' '0.014' '0.015' '0.016' '0.018' '0.02' '0.021'\n",
            " '0.022' '0.023' '0.024' '0.026' '0.03' '0.034' '0.037' '0.041' '0.044'\n",
            " '0.046' '0.049' '0.052' '0.055' '0.057' '0.058' '0.059' '0.06' '0.061'\n",
            " '0.062' '0.063' '0.064' '0.065' '0.067' '0.068' '0.069' '0.07' '0.073'\n",
            " '0.074' '0.076' '0.075' '0.077' '0.079' '0.08' '0.082' '0.083' '0.087'\n",
            " '0.089' '0.091' '0.093' '0.094' '0.096' '0.097' '0.098' '0.099' '0.1'\n",
            " '0.101' '0.102' '0.103' '0.104' '0.106' '0.107' '0.11' '0.115' '0.119'\n",
            " '0.122' '0.126' '0.131' '0.136' '0.14' '0.143' '0.147' '0.15' '0.152'\n",
            " '0.153' '0.155' '0.158' '0.16' '0.162' '0.163' '0.166' '0.171' '0.174'\n",
            " '0.179' '0.183' '0.186' '0.19' '0.195' '0.201' '0.207' '0.212' '0.22'\n",
            " '0.228' '0.232' '0.237' '0.239']\n",
            "2\n",
            "[nan 'samples tested']\n",
            "22\n",
            "[nan '0.0' '5.56' '10.19' '15.74' '26.85' '33.33' '36.11' '38.89' '48.15'\n",
            " '50.0' '59.72' '70.83' '76.39' '100.0' '86.57' '96.3' '81.94' '79.17'\n",
            " '75.46' '76.85' '74.07']\n"
          ],
          "name": "stdout"
        }
      ]
    },
    {
      "cell_type": "code",
      "metadata": {
        "id": "RjiQw4P0T2uL",
        "colab": {
          "base_uri": "https://localhost:8080/",
          "height": 34
        },
        "outputId": "5fb542c2-2c26-4c27-8873-28fdd1f8782e"
      },
      "source": [
        "df.tests_units.isnull().mean()\n",
        "df.tests_units.unique()"
      ],
      "execution_count": null,
      "outputs": [
        {
          "output_type": "execute_result",
          "data": {
            "text/plain": [
              "array([nan, 'samples tested'], dtype=object)"
            ]
          },
          "metadata": {
            "tags": []
          },
          "execution_count": 126
        }
      ]
    },
    {
      "cell_type": "code",
      "metadata": {
        "id": "zbRmo_ASTBFq",
        "colab": {
          "base_uri": "https://localhost:8080/",
          "height": 336
        },
        "outputId": "f9a71cfd-03c7-4ee2-bdfe-3b33bd5911f4"
      },
      "source": [
        "df.dtypes"
      ],
      "execution_count": null,
      "outputs": [
        {
          "output_type": "execute_result",
          "data": {
            "text/plain": [
              "0\n",
              "date                                int64\n",
              "total_cases                        object\n",
              "new_cases                          object\n",
              "total_deaths                       object\n",
              "new_deaths                         object\n",
              "total_cases_per_million            object\n",
              "new_cases_per_million              object\n",
              "total_deaths_per_million           object\n",
              "new_deaths_per_million             object\n",
              "total_tests                        object\n",
              "new_tests                          object\n",
              "total_tests_per_thousand           object\n",
              "new_tests_per_thousand             object\n",
              "new_tests_smoothed                 object\n",
              "new_tests_smoothed_per_thousand    object\n",
              "tests_units                        object\n",
              "stringency_index                   object\n",
              "dtype: object"
            ]
          },
          "metadata": {
            "tags": []
          },
          "execution_count": 127
        }
      ]
    },
    {
      "cell_type": "code",
      "metadata": {
        "id": "iM4EHjYPTRat"
      },
      "source": [
        "for i in df.columns:\n",
        "  if(i!=\"tests_units\"):\n",
        "    df[i]=df[i].astype(\"float\")"
      ],
      "execution_count": null,
      "outputs": []
    },
    {
      "cell_type": "code",
      "metadata": {
        "id": "HdmFwGX1WGx8",
        "colab": {
          "base_uri": "https://localhost:8080/",
          "height": 336
        },
        "outputId": "2ef07ba4-254a-40a0-9851-a1fde9b94b64"
      },
      "source": [
        "df.dtypes"
      ],
      "execution_count": null,
      "outputs": [
        {
          "output_type": "execute_result",
          "data": {
            "text/plain": [
              "0\n",
              "date                               float64\n",
              "total_cases                        float64\n",
              "new_cases                          float64\n",
              "total_deaths                       float64\n",
              "new_deaths                         float64\n",
              "total_cases_per_million            float64\n",
              "new_cases_per_million              float64\n",
              "total_deaths_per_million           float64\n",
              "new_deaths_per_million             float64\n",
              "total_tests                        float64\n",
              "new_tests                          float64\n",
              "total_tests_per_thousand           float64\n",
              "new_tests_per_thousand             float64\n",
              "new_tests_smoothed                 float64\n",
              "new_tests_smoothed_per_thousand    float64\n",
              "tests_units                         object\n",
              "stringency_index                   float64\n",
              "dtype: object"
            ]
          },
          "metadata": {
            "tags": []
          },
          "execution_count": 129
        }
      ]
    },
    {
      "cell_type": "code",
      "metadata": {
        "id": "zIz87qrKW5-F"
      },
      "source": [
        "import numpy as np"
      ],
      "execution_count": null,
      "outputs": []
    },
    {
      "cell_type": "code",
      "metadata": {
        "id": "V1X9j42DYKtM",
        "colab": {
          "base_uri": "https://localhost:8080/",
          "height": 215
        },
        "outputId": "abf5ff4a-6df8-4d81-e9fc-8a7e9fcad683"
      },
      "source": [
        "df.head()"
      ],
      "execution_count": null,
      "outputs": [
        {
          "output_type": "execute_result",
          "data": {
            "text/html": [
              "<div>\n",
              "<style scoped>\n",
              "    .dataframe tbody tr th:only-of-type {\n",
              "        vertical-align: middle;\n",
              "    }\n",
              "\n",
              "    .dataframe tbody tr th {\n",
              "        vertical-align: top;\n",
              "    }\n",
              "\n",
              "    .dataframe thead th {\n",
              "        text-align: right;\n",
              "    }\n",
              "</style>\n",
              "<table border=\"1\" class=\"dataframe\">\n",
              "  <thead>\n",
              "    <tr style=\"text-align: right;\">\n",
              "      <th></th>\n",
              "      <th>date</th>\n",
              "      <th>total_cases</th>\n",
              "      <th>new_cases</th>\n",
              "      <th>total_deaths</th>\n",
              "      <th>new_deaths</th>\n",
              "      <th>total_cases_per_million</th>\n",
              "      <th>new_cases_per_million</th>\n",
              "      <th>total_deaths_per_million</th>\n",
              "      <th>new_deaths_per_million</th>\n",
              "      <th>total_tests</th>\n",
              "      <th>new_tests</th>\n",
              "      <th>total_tests_per_thousand</th>\n",
              "      <th>new_tests_per_thousand</th>\n",
              "      <th>new_tests_smoothed</th>\n",
              "      <th>new_tests_smoothed_per_thousand</th>\n",
              "      <th>tests_units</th>\n",
              "      <th>stringency_index</th>\n",
              "    </tr>\n",
              "  </thead>\n",
              "  <tbody>\n",
              "    <tr>\n",
              "      <th>13428</th>\n",
              "      <td>737424.0</td>\n",
              "      <td>0.0</td>\n",
              "      <td>0.0</td>\n",
              "      <td>0.0</td>\n",
              "      <td>0.0</td>\n",
              "      <td>0.0</td>\n",
              "      <td>0.0</td>\n",
              "      <td>0.0</td>\n",
              "      <td>0.0</td>\n",
              "      <td>NaN</td>\n",
              "      <td>NaN</td>\n",
              "      <td>NaN</td>\n",
              "      <td>NaN</td>\n",
              "      <td>NaN</td>\n",
              "      <td>NaN</td>\n",
              "      <td>NaN</td>\n",
              "      <td>NaN</td>\n",
              "    </tr>\n",
              "    <tr>\n",
              "      <th>13429</th>\n",
              "      <td>737425.0</td>\n",
              "      <td>0.0</td>\n",
              "      <td>0.0</td>\n",
              "      <td>0.0</td>\n",
              "      <td>0.0</td>\n",
              "      <td>0.0</td>\n",
              "      <td>0.0</td>\n",
              "      <td>0.0</td>\n",
              "      <td>0.0</td>\n",
              "      <td>NaN</td>\n",
              "      <td>NaN</td>\n",
              "      <td>NaN</td>\n",
              "      <td>NaN</td>\n",
              "      <td>NaN</td>\n",
              "      <td>NaN</td>\n",
              "      <td>NaN</td>\n",
              "      <td>0.0</td>\n",
              "    </tr>\n",
              "    <tr>\n",
              "      <th>13430</th>\n",
              "      <td>737426.0</td>\n",
              "      <td>0.0</td>\n",
              "      <td>0.0</td>\n",
              "      <td>0.0</td>\n",
              "      <td>0.0</td>\n",
              "      <td>0.0</td>\n",
              "      <td>0.0</td>\n",
              "      <td>0.0</td>\n",
              "      <td>0.0</td>\n",
              "      <td>NaN</td>\n",
              "      <td>NaN</td>\n",
              "      <td>NaN</td>\n",
              "      <td>NaN</td>\n",
              "      <td>NaN</td>\n",
              "      <td>NaN</td>\n",
              "      <td>NaN</td>\n",
              "      <td>0.0</td>\n",
              "    </tr>\n",
              "    <tr>\n",
              "      <th>13431</th>\n",
              "      <td>737427.0</td>\n",
              "      <td>0.0</td>\n",
              "      <td>0.0</td>\n",
              "      <td>0.0</td>\n",
              "      <td>0.0</td>\n",
              "      <td>0.0</td>\n",
              "      <td>0.0</td>\n",
              "      <td>0.0</td>\n",
              "      <td>0.0</td>\n",
              "      <td>NaN</td>\n",
              "      <td>NaN</td>\n",
              "      <td>NaN</td>\n",
              "      <td>NaN</td>\n",
              "      <td>NaN</td>\n",
              "      <td>NaN</td>\n",
              "      <td>NaN</td>\n",
              "      <td>0.0</td>\n",
              "    </tr>\n",
              "    <tr>\n",
              "      <th>13432</th>\n",
              "      <td>737428.0</td>\n",
              "      <td>0.0</td>\n",
              "      <td>0.0</td>\n",
              "      <td>0.0</td>\n",
              "      <td>0.0</td>\n",
              "      <td>0.0</td>\n",
              "      <td>0.0</td>\n",
              "      <td>0.0</td>\n",
              "      <td>0.0</td>\n",
              "      <td>NaN</td>\n",
              "      <td>NaN</td>\n",
              "      <td>NaN</td>\n",
              "      <td>NaN</td>\n",
              "      <td>NaN</td>\n",
              "      <td>NaN</td>\n",
              "      <td>NaN</td>\n",
              "      <td>0.0</td>\n",
              "    </tr>\n",
              "  </tbody>\n",
              "</table>\n",
              "</div>"
            ],
            "text/plain": [
              "0          date  total_cases  ...  tests_units  stringency_index\n",
              "13428  737424.0          0.0  ...          NaN               NaN\n",
              "13429  737425.0          0.0  ...          NaN               0.0\n",
              "13430  737426.0          0.0  ...          NaN               0.0\n",
              "13431  737427.0          0.0  ...          NaN               0.0\n",
              "13432  737428.0          0.0  ...          NaN               0.0\n",
              "\n",
              "[5 rows x 17 columns]"
            ]
          },
          "metadata": {
            "tags": []
          },
          "execution_count": 131
        }
      ]
    },
    {
      "cell_type": "code",
      "metadata": {
        "id": "_XwiGz78WKEo"
      },
      "source": [
        "df.tests_units=df.replace({\"tests_units\" : { 'samples tested' : 1.0, np.nan : 0.0 }})"
      ],
      "execution_count": null,
      "outputs": []
    },
    {
      "cell_type": "code",
      "metadata": {
        "id": "NSfpPEnbXaTi"
      },
      "source": [
        "df.fillna(0, inplace=True)"
      ],
      "execution_count": null,
      "outputs": []
    },
    {
      "cell_type": "code",
      "metadata": {
        "id": "_1TUcismYXTh",
        "colab": {
          "base_uri": "https://localhost:8080/",
          "height": 336
        },
        "outputId": "d348d9c0-f2d4-4660-e2ac-03c9e5e4b33f"
      },
      "source": [
        "df.dtypes"
      ],
      "execution_count": null,
      "outputs": [
        {
          "output_type": "execute_result",
          "data": {
            "text/plain": [
              "0\n",
              "date                               float64\n",
              "total_cases                        float64\n",
              "new_cases                          float64\n",
              "total_deaths                       float64\n",
              "new_deaths                         float64\n",
              "total_cases_per_million            float64\n",
              "new_cases_per_million              float64\n",
              "total_deaths_per_million           float64\n",
              "new_deaths_per_million             float64\n",
              "total_tests                        float64\n",
              "new_tests                          float64\n",
              "total_tests_per_thousand           float64\n",
              "new_tests_per_thousand             float64\n",
              "new_tests_smoothed                 float64\n",
              "new_tests_smoothed_per_thousand    float64\n",
              "tests_units                        float64\n",
              "stringency_index                   float64\n",
              "dtype: object"
            ]
          },
          "metadata": {
            "tags": []
          },
          "execution_count": 134
        }
      ]
    },
    {
      "cell_type": "code",
      "metadata": {
        "id": "Vii_RXO8YAsO"
      },
      "source": [
        "df=df.drop([\"tests_units\"],axis=1)"
      ],
      "execution_count": null,
      "outputs": []
    },
    {
      "cell_type": "code",
      "metadata": {
        "id": "9tNeBuIvY0lx",
        "colab": {
          "base_uri": "https://localhost:8080/",
          "height": 422
        },
        "outputId": "6f9f4174-a14d-4dcd-ef0e-ed861be48152"
      },
      "source": [
        "df"
      ],
      "execution_count": null,
      "outputs": [
        {
          "output_type": "execute_result",
          "data": {
            "text/html": [
              "<div>\n",
              "<style scoped>\n",
              "    .dataframe tbody tr th:only-of-type {\n",
              "        vertical-align: middle;\n",
              "    }\n",
              "\n",
              "    .dataframe tbody tr th {\n",
              "        vertical-align: top;\n",
              "    }\n",
              "\n",
              "    .dataframe thead th {\n",
              "        text-align: right;\n",
              "    }\n",
              "</style>\n",
              "<table border=\"1\" class=\"dataframe\">\n",
              "  <thead>\n",
              "    <tr style=\"text-align: right;\">\n",
              "      <th></th>\n",
              "      <th>date</th>\n",
              "      <th>total_cases</th>\n",
              "      <th>new_cases</th>\n",
              "      <th>total_deaths</th>\n",
              "      <th>new_deaths</th>\n",
              "      <th>total_cases_per_million</th>\n",
              "      <th>new_cases_per_million</th>\n",
              "      <th>total_deaths_per_million</th>\n",
              "      <th>new_deaths_per_million</th>\n",
              "      <th>total_tests</th>\n",
              "      <th>new_tests</th>\n",
              "      <th>total_tests_per_thousand</th>\n",
              "      <th>new_tests_per_thousand</th>\n",
              "      <th>new_tests_smoothed</th>\n",
              "      <th>new_tests_smoothed_per_thousand</th>\n",
              "      <th>stringency_index</th>\n",
              "    </tr>\n",
              "  </thead>\n",
              "  <tbody>\n",
              "    <tr>\n",
              "      <th>13428</th>\n",
              "      <td>737424.0</td>\n",
              "      <td>0.0</td>\n",
              "      <td>0.0</td>\n",
              "      <td>0.0</td>\n",
              "      <td>0.0</td>\n",
              "      <td>0.000</td>\n",
              "      <td>0.000</td>\n",
              "      <td>0.000</td>\n",
              "      <td>0.000</td>\n",
              "      <td>0.0</td>\n",
              "      <td>0.0</td>\n",
              "      <td>0.000</td>\n",
              "      <td>0.000</td>\n",
              "      <td>0.0</td>\n",
              "      <td>0.000</td>\n",
              "      <td>0.0</td>\n",
              "    </tr>\n",
              "    <tr>\n",
              "      <th>13429</th>\n",
              "      <td>737425.0</td>\n",
              "      <td>0.0</td>\n",
              "      <td>0.0</td>\n",
              "      <td>0.0</td>\n",
              "      <td>0.0</td>\n",
              "      <td>0.000</td>\n",
              "      <td>0.000</td>\n",
              "      <td>0.000</td>\n",
              "      <td>0.000</td>\n",
              "      <td>0.0</td>\n",
              "      <td>0.0</td>\n",
              "      <td>0.000</td>\n",
              "      <td>0.000</td>\n",
              "      <td>0.0</td>\n",
              "      <td>0.000</td>\n",
              "      <td>0.0</td>\n",
              "    </tr>\n",
              "    <tr>\n",
              "      <th>13430</th>\n",
              "      <td>737426.0</td>\n",
              "      <td>0.0</td>\n",
              "      <td>0.0</td>\n",
              "      <td>0.0</td>\n",
              "      <td>0.0</td>\n",
              "      <td>0.000</td>\n",
              "      <td>0.000</td>\n",
              "      <td>0.000</td>\n",
              "      <td>0.000</td>\n",
              "      <td>0.0</td>\n",
              "      <td>0.0</td>\n",
              "      <td>0.000</td>\n",
              "      <td>0.000</td>\n",
              "      <td>0.0</td>\n",
              "      <td>0.000</td>\n",
              "      <td>0.0</td>\n",
              "    </tr>\n",
              "    <tr>\n",
              "      <th>13431</th>\n",
              "      <td>737427.0</td>\n",
              "      <td>0.0</td>\n",
              "      <td>0.0</td>\n",
              "      <td>0.0</td>\n",
              "      <td>0.0</td>\n",
              "      <td>0.000</td>\n",
              "      <td>0.000</td>\n",
              "      <td>0.000</td>\n",
              "      <td>0.000</td>\n",
              "      <td>0.0</td>\n",
              "      <td>0.0</td>\n",
              "      <td>0.000</td>\n",
              "      <td>0.000</td>\n",
              "      <td>0.0</td>\n",
              "      <td>0.000</td>\n",
              "      <td>0.0</td>\n",
              "    </tr>\n",
              "    <tr>\n",
              "      <th>13432</th>\n",
              "      <td>737428.0</td>\n",
              "      <td>0.0</td>\n",
              "      <td>0.0</td>\n",
              "      <td>0.0</td>\n",
              "      <td>0.0</td>\n",
              "      <td>0.000</td>\n",
              "      <td>0.000</td>\n",
              "      <td>0.000</td>\n",
              "      <td>0.000</td>\n",
              "      <td>0.0</td>\n",
              "      <td>0.0</td>\n",
              "      <td>0.000</td>\n",
              "      <td>0.000</td>\n",
              "      <td>0.0</td>\n",
              "      <td>0.000</td>\n",
              "      <td>0.0</td>\n",
              "    </tr>\n",
              "    <tr>\n",
              "      <th>...</th>\n",
              "      <td>...</td>\n",
              "      <td>...</td>\n",
              "      <td>...</td>\n",
              "      <td>...</td>\n",
              "      <td>...</td>\n",
              "      <td>...</td>\n",
              "      <td>...</td>\n",
              "      <td>...</td>\n",
              "      <td>...</td>\n",
              "      <td>...</td>\n",
              "      <td>...</td>\n",
              "      <td>...</td>\n",
              "      <td>...</td>\n",
              "      <td>...</td>\n",
              "      <td>...</td>\n",
              "      <td>...</td>\n",
              "    </tr>\n",
              "    <tr>\n",
              "      <th>13628</th>\n",
              "      <td>737625.0</td>\n",
              "      <td>1077618.0</td>\n",
              "      <td>38902.0</td>\n",
              "      <td>26816.0</td>\n",
              "      <td>543.0</td>\n",
              "      <td>780.880</td>\n",
              "      <td>28.190</td>\n",
              "      <td>19.432</td>\n",
              "      <td>0.393</td>\n",
              "      <td>13791869.0</td>\n",
              "      <td>358127.0</td>\n",
              "      <td>9.994</td>\n",
              "      <td>0.260</td>\n",
              "      <td>314959.0</td>\n",
              "      <td>0.228</td>\n",
              "      <td>0.0</td>\n",
              "    </tr>\n",
              "    <tr>\n",
              "      <th>13629</th>\n",
              "      <td>737626.0</td>\n",
              "      <td>1118043.0</td>\n",
              "      <td>40425.0</td>\n",
              "      <td>27497.0</td>\n",
              "      <td>681.0</td>\n",
              "      <td>810.174</td>\n",
              "      <td>29.293</td>\n",
              "      <td>19.925</td>\n",
              "      <td>0.493</td>\n",
              "      <td>14047908.0</td>\n",
              "      <td>256039.0</td>\n",
              "      <td>10.180</td>\n",
              "      <td>0.186</td>\n",
              "      <td>320236.0</td>\n",
              "      <td>0.232</td>\n",
              "      <td>0.0</td>\n",
              "    </tr>\n",
              "    <tr>\n",
              "      <th>13630</th>\n",
              "      <td>737627.0</td>\n",
              "      <td>1155191.0</td>\n",
              "      <td>37148.0</td>\n",
              "      <td>28084.0</td>\n",
              "      <td>587.0</td>\n",
              "      <td>837.092</td>\n",
              "      <td>26.919</td>\n",
              "      <td>20.351</td>\n",
              "      <td>0.425</td>\n",
              "      <td>14381303.0</td>\n",
              "      <td>333395.0</td>\n",
              "      <td>10.421</td>\n",
              "      <td>0.242</td>\n",
              "      <td>326971.0</td>\n",
              "      <td>0.237</td>\n",
              "      <td>0.0</td>\n",
              "    </tr>\n",
              "    <tr>\n",
              "      <th>13631</th>\n",
              "      <td>737628.0</td>\n",
              "      <td>1192915.0</td>\n",
              "      <td>37724.0</td>\n",
              "      <td>28732.0</td>\n",
              "      <td>648.0</td>\n",
              "      <td>864.428</td>\n",
              "      <td>27.336</td>\n",
              "      <td>20.820</td>\n",
              "      <td>0.470</td>\n",
              "      <td>14724546.0</td>\n",
              "      <td>343243.0</td>\n",
              "      <td>10.670</td>\n",
              "      <td>0.249</td>\n",
              "      <td>330269.0</td>\n",
              "      <td>0.239</td>\n",
              "      <td>0.0</td>\n",
              "    </tr>\n",
              "    <tr>\n",
              "      <th>13632</th>\n",
              "      <td>737629.0</td>\n",
              "      <td>1238635.0</td>\n",
              "      <td>45720.0</td>\n",
              "      <td>29861.0</td>\n",
              "      <td>1129.0</td>\n",
              "      <td>897.559</td>\n",
              "      <td>33.130</td>\n",
              "      <td>21.638</td>\n",
              "      <td>0.818</td>\n",
              "      <td>0.0</td>\n",
              "      <td>0.0</td>\n",
              "      <td>0.000</td>\n",
              "      <td>0.000</td>\n",
              "      <td>0.0</td>\n",
              "      <td>0.000</td>\n",
              "      <td>0.0</td>\n",
              "    </tr>\n",
              "  </tbody>\n",
              "</table>\n",
              "<p>205 rows × 16 columns</p>\n",
              "</div>"
            ],
            "text/plain": [
              "0          date  total_cases  ...  new_tests_smoothed_per_thousand  stringency_index\n",
              "13428  737424.0          0.0  ...                            0.000               0.0\n",
              "13429  737425.0          0.0  ...                            0.000               0.0\n",
              "13430  737426.0          0.0  ...                            0.000               0.0\n",
              "13431  737427.0          0.0  ...                            0.000               0.0\n",
              "13432  737428.0          0.0  ...                            0.000               0.0\n",
              "...         ...          ...  ...                              ...               ...\n",
              "13628  737625.0    1077618.0  ...                            0.228               0.0\n",
              "13629  737626.0    1118043.0  ...                            0.232               0.0\n",
              "13630  737627.0    1155191.0  ...                            0.237               0.0\n",
              "13631  737628.0    1192915.0  ...                            0.239               0.0\n",
              "13632  737629.0    1238635.0  ...                            0.000               0.0\n",
              "\n",
              "[205 rows x 16 columns]"
            ]
          },
          "metadata": {
            "tags": []
          },
          "execution_count": 137
        }
      ]
    },
    {
      "cell_type": "code",
      "metadata": {
        "id": "SNjt0_DAY1MH"
      },
      "source": [
        "X=df.drop([\"total_cases\"],axis=1)\n",
        "y=df[\"total_cases\"]"
      ],
      "execution_count": null,
      "outputs": []
    },
    {
      "cell_type": "code",
      "metadata": {
        "id": "oSQpXsd5ZGjp"
      },
      "source": [
        "from sklearn.model_selection import train_test_split\n",
        "X_train, X_test, y_train, y_test = train_test_split(X, y, test_size=0.3, random_state=42)"
      ],
      "execution_count": null,
      "outputs": []
    },
    {
      "cell_type": "markdown",
      "metadata": {
        "id": "OoJsCKJVdU26"
      },
      "source": [
        "###Linear Regression"
      ]
    },
    {
      "cell_type": "code",
      "metadata": {
        "id": "3FbfWOYlZkQF"
      },
      "source": [
        "from sklearn.linear_model import LinearRegression\n",
        "reg = LinearRegression().fit(X_train, y_train)"
      ],
      "execution_count": null,
      "outputs": []
    },
    {
      "cell_type": "code",
      "metadata": {
        "id": "uATkJvJLaCrA"
      },
      "source": [
        "y_pred=reg.predict(X_test)"
      ],
      "execution_count": null,
      "outputs": []
    },
    {
      "cell_type": "code",
      "metadata": {
        "id": "TNubMdMeZ3OP",
        "colab": {
          "base_uri": "https://localhost:8080/",
          "height": 34
        },
        "outputId": "2194be7c-03af-4a81-84b7-883770256758"
      },
      "source": [
        "from sklearn.metrics import accuracy_score\n",
        "accuracy_score(y_test, y_pred.round())"
      ],
      "execution_count": null,
      "outputs": [
        {
          "output_type": "execute_result",
          "data": {
            "text/plain": [
              "0.7580645161290323"
            ]
          },
          "metadata": {
            "tags": []
          },
          "execution_count": 193
        }
      ]
    },
    {
      "cell_type": "code",
      "metadata": {
        "id": "rJmB-GgpdmEB",
        "colab": {
          "base_uri": "https://localhost:8080/",
          "height": 293
        },
        "outputId": "ee0ae02d-238c-41c9-9948-7a08dc344aff"
      },
      "source": [
        "import matplotlib.pyplot as plt\n",
        "plt.scatter(X_test.date,y_pred.round(),color=\"red\")\n",
        "plt.plot(X_test.date,y_test,color=\"green\")"
      ],
      "execution_count": null,
      "outputs": [
        {
          "output_type": "execute_result",
          "data": {
            "text/plain": [
              "[<matplotlib.lines.Line2D at 0x7f57ef5c9828>]"
            ]
          },
          "metadata": {
            "tags": []
          },
          "execution_count": 205
        },
        {
          "output_type": "display_data",
          "data": {
            "image/png": "[encoded data removed]",
            "text/plain": [
              "<Figure size 432x288 with 1 Axes>"
            ]
          },
          "metadata": {
            "tags": [],
            "needs_background": "light"
          }
        }
      ]
    },
    {
      "cell_type": "markdown",
      "metadata": {
        "id": "vt3i38E7dXde"
      },
      "source": [
        "###Random Forest"
      ]
    },
    {
      "cell_type": "code",
      "metadata": {
        "id": "CYQWKTK4am7n",
        "colab": {
          "base_uri": "https://localhost:8080/",
          "height": 134
        },
        "outputId": "316cb475-abdc-4eae-8112-22953919aab6"
      },
      "source": [
        "from sklearn.ensemble import RandomForestRegressor\n",
        "regr = RandomForestRegressor(n_estimators = 100, random_state = 0)\n",
        "regr.fit(X_train, y_train)"
      ],
      "execution_count": null,
      "outputs": [
        {
          "output_type": "execute_result",
          "data": {
            "text/plain": [
              "RandomForestRegressor(bootstrap=True, ccp_alpha=0.0, criterion='mse',\n",
              "                      max_depth=None, max_features='auto', max_leaf_nodes=None,\n",
              "                      max_samples=None, min_impurity_decrease=0.0,\n",
              "                      min_impurity_split=None, min_samples_leaf=1,\n",
              "                      min_samples_split=2, min_weight_fraction_leaf=0.0,\n",
              "                      n_estimators=100, n_jobs=None, oob_score=False,\n",
              "                      random_state=0, verbose=0, warm_start=False)"
            ]
          },
          "metadata": {
            "tags": []
          },
          "execution_count": 176
        }
      ]
    },
    {
      "cell_type": "code",
      "metadata": {
        "id": "mJk_0BwSbG6Z"
      },
      "source": [
        "y_pred=regr.predict(X_test)"
      ],
      "execution_count": null,
      "outputs": []
    },
    {
      "cell_type": "code",
      "metadata": {
        "id": "RCB-jp9TbY4g",
        "colab": {
          "base_uri": "https://localhost:8080/",
          "height": 286
        },
        "outputId": "d31c3efa-2878-485b-c2f5-de7ad4a2fce8"
      },
      "source": [
        "y_pred"
      ],
      "execution_count": null,
      "outputs": [
        {
          "output_type": "execute_result",
          "data": {
            "text/plain": [
              "array([0.00000000e+00, 0.00000000e+00, 6.96552000e+03, 6.63369700e+04,\n",
              "       3.61900000e+01, 3.10976000e+03, 2.30370560e+05, 2.83107020e+05,\n",
              "       1.56165850e+05, 5.94860820e+05, 7.91688310e+05, 3.13460170e+05,\n",
              "       4.81600000e+01, 4.68622580e+05, 9.77900000e+01, 1.71287180e+05,\n",
              "       0.00000000e+00, 5.04510000e+02, 7.37250000e+02, 1.27006460e+05,\n",
              "       3.00000000e+00, 8.91495000e+03, 6.28503000e+03, 1.59000000e+00,\n",
              "       2.00000000e-02, 0.00000000e+00, 3.53361600e+05, 8.92778260e+05,\n",
              "       3.82111000e+03, 8.24598460e+05, 3.06100000e+01, 3.27593100e+04,\n",
              "       2.16787960e+05, 1.12412996e+06, 2.26400000e+02, 5.65400000e+01,\n",
              "       1.38603580e+05, 3.00000000e+00, 3.00000000e+00, 5.16910000e+02,\n",
              "       1.48064730e+05, 2.81700000e+01, 1.95195300e+04, 1.93833940e+05,\n",
              "       4.62181000e+03, 3.00000000e+00, 0.00000000e+00, 9.97688700e+04,\n",
              "       1.82208500e+04, 9.00000000e-02, 0.00000000e+00, 5.09607910e+05,\n",
              "       1.19941000e+03, 4.17547800e+05, 2.86013000e+03, 0.00000000e+00,\n",
              "       3.17384870e+05, 3.00000000e+00, 5.60471500e+04, 1.45150000e+02,\n",
              "       1.28419190e+05, 1.08429400e+04])"
            ]
          },
          "metadata": {
            "tags": []
          },
          "execution_count": 178
        }
      ]
    },
    {
      "cell_type": "code",
      "metadata": {
        "id": "52Q0d8yrbJ7b",
        "colab": {
          "base_uri": "https://localhost:8080/",
          "height": 34
        },
        "outputId": "89a23efe-7e55-43ee-aa83-73944aa5cc75"
      },
      "source": [
        "from sklearn.metrics import accuracy_score\n",
        "accuracy_score(y_test, y_pred.round())"
      ],
      "execution_count": null,
      "outputs": [
        {
          "output_type": "execute_result",
          "data": {
            "text/plain": [
              "0.24193548387096775"
            ]
          },
          "metadata": {
            "tags": []
          },
          "execution_count": 179
        }
      ]
    },
    {
      "cell_type": "code",
      "metadata": {
        "id": "lNirf4-WbQ0H",
        "colab": {
          "base_uri": "https://localhost:8080/",
          "height": 293
        },
        "outputId": "8de23985-1f22-4a74-e76c-1b5815b20c38"
      },
      "source": [
        "import matplotlib.pyplot as plt\n",
        "plt.scatter(X_test.date,y_pred.round(),color=\"red\")\n",
        "plt.plot(X_test.date,y_test)"
      ],
      "execution_count": null,
      "outputs": [
        {
          "output_type": "execute_result",
          "data": {
            "text/plain": [
              "[<matplotlib.lines.Line2D at 0x7f57ef477898>]"
            ]
          },
          "metadata": {
            "tags": []
          },
          "execution_count": 206
        },
        {
          "output_type": "display_data",
          "data": {
            "image/png": "[encoded data removed]",
            "text/plain": [
              "<Figure size 432x288 with 1 Axes>"
            ]
          },
          "metadata": {
            "tags": [],
            "needs_background": "light"
          }
        }
      ]
    },
    {
      "cell_type": "code",
      "metadata": {
        "id": "b1CpLF_ZcOw6"
      },
      "source": [
        ""
      ],
      "execution_count": null,
      "outputs": []
    }
  ]
}